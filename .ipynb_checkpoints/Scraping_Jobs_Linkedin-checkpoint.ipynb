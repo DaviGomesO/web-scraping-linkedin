{
 "cells": [
  {
   "cell_type": "markdown",
   "id": "3cc79cfd",
   "metadata": {},
   "source": [
    "#### Aqui iniciei com o import do selenium\n",
    "###### Mas antes foi preciso fazer a instalação das bibliotecas:\n",
    "- pip install selenium\n",
    "- pip install scrapy\n",
    "- pip install ipython\n",
    "- pip install pandas"
   ]
  },
  {
   "cell_type": "code",
   "execution_count": 120,
   "id": "ad04a34c",
   "metadata": {},
   "outputs": [
    {
     "name": "stdout",
     "output_type": "stream",
     "text": [
      "Requirement already satisfied: pandas in c:\\users\\davi_\\anaconda3\\lib\\site-packages (1.4.4)Note: you may need to restart the kernel to use updated packages.\n",
      "\n",
      "Requirement already satisfied: pytz>=2020.1 in c:\\users\\davi_\\anaconda3\\lib\\site-packages (from pandas) (2022.1)\n",
      "Requirement already satisfied: numpy>=1.18.5 in c:\\users\\davi_\\anaconda3\\lib\\site-packages (from pandas) (1.21.5)\n",
      "Requirement already satisfied: python-dateutil>=2.8.1 in c:\\users\\davi_\\anaconda3\\lib\\site-packages (from pandas) (2.8.2)\n",
      "Requirement already satisfied: six>=1.5 in c:\\users\\davi_\\anaconda3\\lib\\site-packages (from python-dateutil>=2.8.1->pandas) (1.16.0)\n"
     ]
    }
   ],
   "source": [
    "pip install pandas"
   ]
  },
  {
   "cell_type": "code",
   "execution_count": 121,
   "id": "ff8913bb",
   "metadata": {},
   "outputs": [],
   "source": [
    "from selenium import webdriver\n",
    "from selenium.webdriver.chrome.options import Options\n",
    "from selenium.webdriver.chrome.service import Service\n",
    "from selenium.common.exceptions import NoSuchElementException\n",
    "from webdriver_manager.chrome import ChromeDriverManager\n",
    "from selenium.webdriver.common.by import By\n",
    "from selenium.webdriver.common.keys import Keys\n",
    "from selenium.webdriver.common.action_chains import ActionChains\n",
    "from time import sleep\n",
    "import re\n",
    "import datetime\n",
    "import pandas as pd"
   ]
  },
  {
   "cell_type": "markdown",
   "id": "772efd9b",
   "metadata": {},
   "source": [
    "##### Fiz a instalação do chromedriver e em seguida abro a página do Google"
   ]
  },
  {
   "cell_type": "code",
   "execution_count": 94,
   "id": "42421884",
   "metadata": {},
   "outputs": [],
   "source": [
    "\n",
    "# Configurar o driver do navegador (exemplo usando o Chrome)\n",
    "options = Options()\n",
    "options.add_argument(\"start-maximized\")\n",
    "driver = webdriver.Chrome(service=Service(ChromeDriverManager().install()), options=options)\n",
    "driver.get(\"https://www.google.com\")"
   ]
  },
  {
   "cell_type": "markdown",
   "id": "aef12837",
   "metadata": {},
   "source": [
    "##### Em seguida, insiro a palavra chave para busca, e abro o Linkedin"
   ]
  },
  {
   "cell_type": "code",
   "execution_count": 95,
   "id": "d9e8b5b7",
   "metadata": {},
   "outputs": [],
   "source": [
    "driver.find_element('name', 'q').send_keys('vagas marketing')\n",
    "driver.get(\"https://www.linkedin.com\")"
   ]
  },
  {
   "cell_type": "markdown",
   "id": "51684160",
   "metadata": {},
   "source": [
    "###### Ao abrir o Linkedin, não irei logar, portanto seleciono button para vagas"
   ]
  },
  {
   "cell_type": "code",
   "execution_count": 96,
   "id": "a7b53362",
   "metadata": {},
   "outputs": [],
   "source": [
    "sleep(3)\n",
    "driver.find_elements(by=By.XPATH, value='/html/body/nav/ul/li[4]/a')[0].click()"
   ]
  },
  {
   "cell_type": "markdown",
   "id": "a25d09a5",
   "metadata": {},
   "source": [
    "###### Em seguida, limpo a label de localidade e a label de palavras-chaves para vagas, e insiro a que quero buscar"
   ]
  },
  {
   "cell_type": "code",
   "execution_count": 104,
   "id": "72d5e15b",
   "metadata": {},
   "outputs": [],
   "source": [
    "driver.find_element('name','keywords').clear()\n",
    "driver.find_element('name','keywords').send_keys('Marketing E Publicidade')\n",
    "driver.find_element('name','location').clear()\n",
    "driver.find_element('name','location').send_keys('Brasil')"
   ]
  },
  {
   "cell_type": "markdown",
   "id": "d1467ef4",
   "metadata": {},
   "source": [
    "###### Seleciono o localidade 1 das opções que aparece ao preencher a label"
   ]
  },
  {
   "cell_type": "code",
   "execution_count": 105,
   "id": "062801e0",
   "metadata": {},
   "outputs": [],
   "source": [
    "sleep(3)\n",
    "driver.find_elements(by=By.XPATH, value='//*[@id=\"location-1\"]')[0].click()"
   ]
  },
  {
   "cell_type": "markdown",
   "id": "7e333027",
   "metadata": {},
   "source": [
    "###### Aqui irei abrir os filtros para tipos de vaga, e selecionar o filtro Tempo integral e Estágio, por último seleciono o botão concluído"
   ]
  },
  {
   "cell_type": "code",
   "execution_count": 106,
   "id": "6c62b9a1",
   "metadata": {},
   "outputs": [],
   "source": [
    "sleep(3)\n",
    "driver.find_elements(by=By.XPATH, value='//*[@id=\"jserp-filters\"]/ul/li[4]/div/div/button')[0].click()"
   ]
  },
  {
   "cell_type": "code",
   "execution_count": 107,
   "id": "9900cd4c",
   "metadata": {},
   "outputs": [],
   "source": [
    "sleep(3)\n",
    "driver.find_elements(by=By.XPATH, value='//*[@id=\"jserp-filters\"]/ul/li[4]/div/div/div/div/div/div[1]/label')[0].click()"
   ]
  },
  {
   "cell_type": "code",
   "execution_count": 108,
   "id": "fe75aff8",
   "metadata": {},
   "outputs": [
    {
     "data": {
      "text/plain": [
       "'sleep(3)\\ndriver.find_elements(by=By.XPATH, value=\\'//*[@id=\"jserp-filters\"]/ul/li[4]/div/div/div/div/div/div[5]/label\\')[0].click()'"
      ]
     },
     "execution_count": 108,
     "metadata": {},
     "output_type": "execute_result"
    }
   ],
   "source": [
    "'''sleep(3)\n",
    "driver.find_elements(by=By.XPATH, value='//*[@id=\"jserp-filters\"]/ul/li[4]/div/div/div/div/div/div[5]/label')[0].click()'''"
   ]
  },
  {
   "cell_type": "code",
   "execution_count": 109,
   "id": "4b8b243d",
   "metadata": {},
   "outputs": [],
   "source": [
    "sleep(3)\n",
    "driver.find_elements(by=By.XPATH, value='//*[@id=\"jserp-filters\"]/ul/li[4]/div/div/div/button')[0].click()"
   ]
  },
  {
   "cell_type": "code",
   "execution_count": 110,
   "id": "93da70bb",
   "metadata": {},
   "outputs": [],
   "source": [
    "sleep(3)\n",
    "# fecho evento de iniciar sessão\n",
    "try:\n",
    "    evento_sessao = driver.find_elements(by=By.XPATH, value='/html/body/div[3]/button')[0]\n",
    "    # Se o elemento estiver presente, clica nele para fechar o evento\n",
    "    evento_sessao.click()\n",
    "except:\n",
    "    # Se o elemento não estiver presente, não faz nada\n",
    "    pass"
   ]
  },
  {
   "cell_type": "markdown",
   "id": "1d729c0a",
   "metadata": {},
   "source": [
    "###### Pegando link das vagas"
   ]
  },
  {
   "cell_type": "code",
   "execution_count": 111,
   "id": "a11ea820",
   "metadata": {},
   "outputs": [
    {
     "data": {
      "text/plain": [
       "'print(vagas_link)\\nprint(len(vagas_links))'"
      ]
     },
     "execution_count": 111,
     "metadata": {},
     "output_type": "execute_result"
    }
   ],
   "source": [
    "# Realizar o scrolling até o fim da página\n",
    "contador = 0\n",
    "altura_anterior = driver.execute_script(\"return window.pageYOffset;\")\n",
    "while contador < 2:\n",
    "    # Realizar o scrolling até o fim da página\n",
    "    actions = ActionChains(driver)\n",
    "    actions.send_keys(Keys.END).perform()\n",
    "    sleep(2)  # Aguardar um tempo para carregar mais vagas\n",
    "    \n",
    "    # Verificar se não há mais vagas para carregar (chegou ao fim da página)\n",
    "    try:\n",
    "        even_ver_mais = driver.find_elements(by=By.XPATH, value='//*[@id=\"main-content\"]/section[2]/button')[0]\n",
    "        #even_ver_mais.click()\n",
    "        driver.execute_script(\"arguments[0].click();\", even_ver_mais)\n",
    "        # Verificar se a altura da página foi alterada\n",
    "        altura_atual = driver.execute_script(\"return window.pageYOffset;\")\n",
    "        if altura_atual == altura_anterior:\n",
    "            # Incrementar o contador quando o botão não estiver mais disponível\n",
    "            contador += 1\n",
    "        else:\n",
    "            # Zerar o contador quando a página for expandida\n",
    "            contador = 0\n",
    "        altura_anterior = altura_atual\n",
    "    except NoSuchElementException:\n",
    "         # Incrementar o contador quando o botão não estiver mais disponível\n",
    "        contador += 1\n",
    "        continue\n",
    "\n",
    "vagas_links = driver.find_elements(By.XPATH, '/html/body/div[1]/div/main/section[2]/ul/li/div/a')\n",
    "vagas_links = [link.get_attribute('href') for link in vagas_links]\n"
   ]
  },
  {
   "cell_type": "markdown",
   "id": "51b94fb1",
   "metadata": {},
   "source": [
    "###### Pegando titulos das vagas"
   ]
  },
  {
   "cell_type": "code",
   "execution_count": 112,
   "id": "a2fbb1a6",
   "metadata": {},
   "outputs": [
    {
     "data": {
      "text/plain": [
       "'print(vagas_title)\\nprint(len(vagas_title_texts))'"
      ]
     },
     "execution_count": 112,
     "metadata": {},
     "output_type": "execute_result"
    }
   ],
   "source": [
    "vagas_title = driver.find_elements(by=By.CLASS_NAME, value='base-search-card__title')\n",
    "vagas_title=[titulo.text for titulo in vagas_title]\n"
   ]
  },
  {
   "cell_type": "markdown",
   "id": "ccf5261c",
   "metadata": {},
   "source": [
    "###### Pegando nome das empresas das vagas"
   ]
  },
  {
   "cell_type": "code",
   "execution_count": 113,
   "id": "e020f8ab",
   "metadata": {},
   "outputs": [
    {
     "data": {
      "text/plain": [
       "'print(vagas_empresa)\\nprint()\\nprint(len(vagas_empresa))'"
      ]
     },
     "execution_count": 113,
     "metadata": {},
     "output_type": "execute_result"
    }
   ],
   "source": [
    "vagas_empresa = driver.find_elements(by=By.CLASS_NAME, value='hidden-nested-link')\n",
    "vagas_empresa = [empresa.text for empresa in vagas_empresa]\n"
   ]
  },
  {
   "cell_type": "markdown",
   "id": "e71edebe",
   "metadata": {},
   "source": [
    "###### Pegando link das empresas das vagas e os dados de tipo e nivel de experiência"
   ]
  },
  {
   "cell_type": "code",
   "execution_count": 114,
   "id": "49065e12",
   "metadata": {},
   "outputs": [],
   "source": [
    "def rasp(tipo, nivel, candidaturas, URL):\n",
    "    vagas_nivel = driver.find_elements(by=By.XPATH, value='//*[@id=\"main-content\"]/section[1]/div/div/section[1]/div/ul/li[1]/span')\n",
    "    for i in vagas_nivel:\n",
    "        nivel.append(i.text)\n",
    "    \n",
    "    vagas_tipo = driver.find_elements(by=By.XPATH, value='//*[@id=\"main-content\"]/section[1]/div/div/section[1]/div/ul/li[2]/span')\n",
    "    for i in vagas_tipo:\n",
    "        tipo.append(i.text)\n",
    "    \n",
    "    try:\n",
    "        vagas_candidaturas = driver.find_elements(by=By.XPATH, value='//*[@id=\"main-content\"]/section[1]/div/section[2]/div/div[1]/div/h4/div[2]/figure/figcaption')\n",
    "        if vagas_candidaturas[0].text == \"Seja um dos 25 primeiros a se candidatar\":\n",
    "            candidaturas.append(\"Menos de 25 candidaturas\")\n",
    "        else:\n",
    "            candidaturas.append(vagas_candidaturas[0].text)\n",
    "    except:\n",
    "        vagas_candidaturas = driver.find_elements(by=By.XPATH, value='//*[@id=\"main-content\"]/section[1]/div/section[2]/div/div[1]/div/h4/div[2]/span[2]')\n",
    "        candidaturas.append(vagas_candidaturas[0].text)\n",
    "        \n",
    "    vagas_URL = driver.find_elements(by=By.XPATH, value='//*[@id=\"main-content\"]/section[1]/div/section[2]/div/div[1]/div/div/button[1]')\n",
    "    for i in vagas_URL:\n",
    "        URL.append(i.get_attribute('href'))\n",
    "   "
   ]
  },
  {
   "cell_type": "code",
   "execution_count": 115,
   "id": "8789e823",
   "metadata": {},
   "outputs": [],
   "source": [
    "def rasp_info_emp(seguidores_emp, local_emp, qtd_funcionarios):\n",
    "    #tratar erro de quando não encontrar informações de texto sobre seguidores no linkedin\n",
    "    try:\n",
    "        elements = driver.find_elements(by=By.XPATH, value='//*[@id=\"main-content\"]/section[1]/section/div/div[2]/div[1]/h3')\n",
    "        if len(elements) > 0:\n",
    "            info_aux = re.split(padrao, elements[0].text, maxsplit = 1)\n",
    "            seguidores_emp.append(info_aux[1]+info_aux[2])\n",
    "        else:\n",
    "            seguidores_emp.append(\"Não informado\")\n",
    "\n",
    "    except NoSuchElementException:\n",
    "        seguidores_emp.append(\"Não informado\")\n",
    "\n",
    "\n",
    "    element_loc = driver.find_elements(by=By.XPATH, value='//*[@id=\"address-0\"]')\n",
    "    local_emp.append(element_loc[0].text)\n",
    "    \n",
    "\n",
    "    element_funcionario = driver.find_elements(by=By.XPATH, value='//*[@id=\"main-content\"]/section[1]/div/section[1]/div/dl/div[3]/dd')\n",
    "    qtd_funcionarios.append(element_funcionario[0].text)"
   ]
  },
  {
   "cell_type": "code",
   "execution_count": 117,
   "id": "dae1a702",
   "metadata": {},
   "outputs": [
    {
     "name": "stdout",
     "output_type": "stream",
     "text": [
      "['05/04/2023 12:05', '05/04/2023 12:05', '05/04/2023 12:05', '05/04/2023 12:06', '05/04/2023 12:06', '05/04/2023 12:06', '05/04/2023 12:06', '05/04/2023 12:06', '05/04/2023 12:06', '05/04/2023 12:06', '05/04/2023 12:07', '05/04/2023 12:07', '05/04/2023 12:07', '05/04/2023 12:07', '05/04/2023 12:07', '05/04/2023 12:07', '05/04/2023 12:07', '05/04/2023 12:07', '05/04/2023 12:08', '05/04/2023 12:08', '05/04/2023 12:08', '05/04/2023 12:08', '05/04/2023 12:08', '05/04/2023 12:09', '05/04/2023 12:09']\n",
      "25\n"
     ]
    }
   ],
   "source": [
    "vagas_tipo = []\n",
    "vagas_nivel = []\n",
    "num_candidaturas = []\n",
    "URL_candidatura = []\n",
    "links_sites_emp = []\n",
    "horario_Scraping = []\n",
    "\n",
    "seguidores_empresa, local_empresa, qtd_func = [], [], []\n",
    "#para separar a string quando encontrar o primeiro digito\n",
    "padrao = r\"(\\d)\" #significa um digito\n",
    "\n",
    "j = 0\n",
    "for i in vagas_links:\n",
    "    agora = datetime.datetime.now()\n",
    "    formatado = agora.strftime(\"%d/%m/%Y %H:%M\")\n",
    "    #print(formatado)\n",
    "    horario_Scraping.append(formatado)\n",
    "    sleep(2)\n",
    "    driver.get(i)\n",
    "    \n",
    "    #verificar se o url aberto foi o certo\n",
    "    while driver.current_url != i:\n",
    "        driver.get(i)\n",
    "        #print(j,driver.current_url)\n",
    "    \n",
    "    rasp(vagas_nivel, vagas_tipo, num_candidaturas, URL_candidatura)\n",
    "    \n",
    "    site_empresa = driver.find_elements(by=By.XPATH, value='//*[@id=\"main-content\"]/section[1]/div/section[2]/div/div[1]/div/h4/div[1]/span[1]/a')\n",
    "    for k in site_empresa:\n",
    "        links_sites_emp.append(k.get_attribute('href'))\n",
    "    \n",
    "    #Abrir site da empresa\n",
    "    driver.get(links_sites_emp[j])\n",
    "\n",
    "    #verificar se o url aberto foi o certo\n",
    "    while driver.current_url != links_sites_emp[j]:\n",
    "        driver.get(links_sites_emp[j])\n",
    "\n",
    "    sleep(3)\n",
    "\n",
    "    # fecho evento de logar se estiver presente\n",
    "    try:\n",
    "        evento_entrar = driver.find_elements(by=By.XPATH, value='//*[@id=\"organization_guest_contextual-sign-in\"]/div/section/button')[0]\n",
    "        # Se o elemento estiver presente, clica nele para fechar o evento\n",
    "        evento_entrar.click()\n",
    "    except:\n",
    "        # Se o elemento não estiver presente, não faz nada\n",
    "        pass\n",
    "    \n",
    "    rasp_info_emp(seguidores_empresa, local_empresa, qtd_func)\n",
    "    \n",
    "    j = j + 1\n",
    "    "
   ]
  },
  {
   "cell_type": "code",
   "execution_count": 122,
   "id": "efaf2954",
   "metadata": {},
   "outputs": [
    {
     "name": "stdout",
     "output_type": "stream",
     "text": [
      "['https://br.linkedin.com/jobs/view/analista-de-comunica%C3%A7%C3%A3o-e-marketing-junior-at-sicoob-agrocredi-3557022573?refId=9NEGMrlreCRqXU%2BYyDpQ8Q%3D%3D&trackingId=l3TRzzpIU3wHQZa1T10vhQ%3D%3D&position=1&pageNum=0&trk=public_jobs_jserp-result_search-card', 'https://br.linkedin.com/jobs/view/brand-designer-at-nelogica-3531121540?refId=9NEGMrlreCRqXU%2BYyDpQ8Q%3D%3D&trackingId=FL8f5P8SF9yjxNdl2NkCcg%3D%3D&position=2&pageNum=0&trk=public_jobs_jserp-result_search-card', 'https://br.linkedin.com/jobs/view/assistente-de-comunica%C3%A7%C3%A3o-e-marketing-at-col%C3%A9gio-arnaldo-3550936358?refId=9NEGMrlreCRqXU%2BYyDpQ8Q%3D%3D&trackingId=7CfAXLatu9WhLU2vxFHtXw%3D%3D&position=3&pageNum=0&trk=public_jobs_jserp-result_search-card', 'https://br.linkedin.com/jobs/view/assistente-de-marketing-e-publicidade-at-equipe-cine-3521828190?refId=9NEGMrlreCRqXU%2BYyDpQ8Q%3D%3D&trackingId=g6IyaX%2FUDElWIdiOPlLNJw%3D%3D&position=4&pageNum=0&trk=public_jobs_jserp-result_search-card', 'https://br.linkedin.com/jobs/view/analista-de-publicidade-at-trabalhabrasil-3551070919?refId=9NEGMrlreCRqXU%2BYyDpQ8Q%3D%3D&trackingId=r5DK04MXcuMfFTku4F4WzA%3D%3D&position=5&pageNum=0&trk=public_jobs_jserp-result_search-card', 'https://br.linkedin.com/jobs/view/assistente-de-m%C3%ADdias-sociais-digitais-social-media-at-funda%C3%A7%C3%A3o-s%C3%A3o-paulo-3529648162?refId=9NEGMrlreCRqXU%2BYyDpQ8Q%3D%3D&trackingId=Afy4p1h3kpHyOrqs5Hse5Q%3D%3D&position=6&pageNum=0&trk=public_jobs_jserp-result_search-card', 'https://br.linkedin.com/jobs/view/social-media-j%C3%BAnior-at-m3-social-mkt-digital-3508096057?refId=9NEGMrlreCRqXU%2BYyDpQ8Q%3D%3D&trackingId=Ad9fezuc%2FHD%2FNl7a77%2FfSg%3D%3D&position=7&pageNum=0&trk=public_jobs_jserp-result_search-card', 'https://br.linkedin.com/jobs/view/assistente-de-publicidade-e-marketing-at-equipe-cine-3521822371?refId=9NEGMrlreCRqXU%2BYyDpQ8Q%3D%3D&trackingId=g%2B2MjJS%2FrAp8DMiVxCCMKA%3D%3D&position=8&pageNum=0&trk=public_jobs_jserp-result_search-card', 'https://br.linkedin.com/jobs/view/analista-de-social-media-jr-at-uol-edtech-3540346147?refId=9NEGMrlreCRqXU%2BYyDpQ8Q%3D%3D&trackingId=zPfTJY8kwy3l8f0BDoZvlg%3D%3D&position=9&pageNum=0&trk=public_jobs_jserp-result_search-card', 'https://br.linkedin.com/jobs/view/assistente-de-marketing-at-mxlog-3557254279?refId=9NEGMrlreCRqXU%2BYyDpQ8Q%3D%3D&trackingId=pqsqJS5m4z%2Fps2fp0svUHw%3D%3D&position=10&pageNum=0&trk=public_jobs_jserp-result_search-card', 'https://br.linkedin.com/jobs/view/social-media-at-ag%C3%AAncia-rf-3557273365?refId=9NEGMrlreCRqXU%2BYyDpQ8Q%3D%3D&trackingId=VWbu9NxWEbkPC4Uk5GHvtA%3D%3D&position=11&pageNum=0&trk=public_jobs_jserp-result_search-card', 'https://br.linkedin.com/jobs/view/social-media-at-viss-cabeleireiros-visagistas-3505202734?refId=9NEGMrlreCRqXU%2BYyDpQ8Q%3D%3D&trackingId=PvWL2fHAN8uguGhDKkkgsg%3D%3D&position=12&pageNum=0&trk=public_jobs_jserp-result_search-card', 'https://br.linkedin.com/jobs/view/social-media-at-suzanbela-3515096710?refId=9NEGMrlreCRqXU%2BYyDpQ8Q%3D%3D&trackingId=UWOOw60tpmMB92j2ZgffjQ%3D%3D&position=13&pageNum=0&trk=public_jobs_jserp-result_search-card', 'https://br.linkedin.com/jobs/view/assistente-de-comunica%C3%A7%C3%A3o-e-marketing-at-rede-verbita-de-educa%C3%A7%C3%A3o-3543501935?refId=9NEGMrlreCRqXU%2BYyDpQ8Q%3D%3D&trackingId=RDuef%2Bd3CKqzdTOEFV%2B9Lw%3D%3D&position=14&pageNum=0&trk=public_jobs_jserp-result_search-card', 'https://br.linkedin.com/jobs/view/assistente-de-design-e-social-media-at-it-stone-semi-joias-3529302229?refId=9NEGMrlreCRqXU%2BYyDpQ8Q%3D%3D&trackingId=3cPaWF%2FN8CSk0ZQmY2hCyw%3D%3D&position=15&pageNum=0&trk=public_jobs_jserp-result_search-card', 'https://br.linkedin.com/jobs/view/assistente-de-comunica%C3%A7%C3%A3o-e-marketing-florian%C3%B3polis-sc-at-transpocred-%E2%80%93-cooperativa-ailos-3515452370?refId=9NEGMrlreCRqXU%2BYyDpQ8Q%3D%3D&trackingId=1x8kb8BZ1FRBGp5sLLz1HQ%3D%3D&position=16&pageNum=0&trk=public_jobs_jserp-result_search-card', 'https://br.linkedin.com/jobs/view/designer-jr-at-fadami-software-innovation-3556008724?refId=9NEGMrlreCRqXU%2BYyDpQ8Q%3D%3D&trackingId=rlf8pp4cscg6mypsi21T5g%3D%3D&position=17&pageNum=0&trk=public_jobs_jserp-result_search-card', 'https://br.linkedin.com/jobs/view/assistente-de-marketing-at-fourmi-publicidade-3527540700?refId=9NEGMrlreCRqXU%2BYyDpQ8Q%3D%3D&trackingId=SAoyyZEA1K9%2BS7ohqJOmwQ%3D%3D&position=18&pageNum=0&trk=public_jobs_jserp-result_search-card', 'https://br.linkedin.com/jobs/view/assistente-de-marketing-at-trabalhabrasil-3551070740?refId=9NEGMrlreCRqXU%2BYyDpQ8Q%3D%3D&trackingId=0Ym7L07ed1twxlmKprR0LQ%3D%3D&position=19&pageNum=0&trk=public_jobs_jserp-result_search-card', 'https://br.linkedin.com/jobs/view/social-media-est%C3%A1gio-at-salli-brasil-3556801351?refId=9NEGMrlreCRqXU%2BYyDpQ8Q%3D%3D&trackingId=fNLPb%2BHyTZHiDjeHfL0aCA%3D%3D&position=20&pageNum=0&trk=public_jobs_jserp-result_search-card', 'https://br.linkedin.com/jobs/view/social-media-at-mindblowing-agency-3557220091?refId=9NEGMrlreCRqXU%2BYyDpQ8Q%3D%3D&trackingId=0zLYEwsL4c0GhZvb7kNqyg%3D%3D&position=21&pageNum=0&trk=public_jobs_jserp-result_search-card', 'https://br.linkedin.com/jobs/view/est%C3%A1gio-em-social-media-at-studio-sol-3556014459?refId=9NEGMrlreCRqXU%2BYyDpQ8Q%3D%3D&trackingId=IWvzrnpMZ2IZPxnQBDueKg%3D%3D&position=22&pageNum=0&trk=public_jobs_jserp-result_search-card', 'https://br.linkedin.com/jobs/view/est%C3%A1gio-social-media-305152-at-inside-3555129285?refId=9NEGMrlreCRqXU%2BYyDpQ8Q%3D%3D&trackingId=4VOy2jF%2BFXU%2FfEx%2B%2BP7lwA%3D%3D&position=23&pageNum=0&trk=public_jobs_jserp-result_search-card', 'https://br.linkedin.com/jobs/view/social-media-freelance-at-akl-marketing-pet-3534118110?refId=9NEGMrlreCRqXU%2BYyDpQ8Q%3D%3D&trackingId=15mKc4HDdNPE9udgGD03fQ%3D%3D&position=24&pageNum=0&trk=public_jobs_jserp-result_search-card', 'https://br.linkedin.com/jobs/view/social-media-time-de-cria%C3%A7%C3%A3o-at-like-design-3515509685?refId=9NEGMrlreCRqXU%2BYyDpQ8Q%3D%3D&trackingId=mCxUC6nNUgEZV9YJDQ9B2Q%3D%3D&position=25&pageNum=0&trk=public_jobs_jserp-result_search-card']\n",
      "['Analista de Comunicação e Marketing Junior', 'Brand Designer', 'Assistente de Comunicação e Marketing', 'Assistente de Marketing e Publicidade', 'Analista de Publicidade', 'Assistente de Mídias Sociais/Digitais ( Social Media )', 'Social Media Júnior', 'Assistente de Publicidade e Marketing', 'Analista de Social Media Jr.', 'Assistente de Marketing', 'Social Media', 'Social Media', 'Social Media', 'Assistente de Comunicação e Marketing', 'Assistente de design e social media', 'Assistente de Comunicação e Marketing - Florianópolis/SC', 'Designer Jr', 'Assistente de Marketing', 'Assistente de Marketing', 'Social Media - (Estágio)', 'Social Media', 'Estágio em Social Media', 'Estágio - Social Media (305152)', 'Social Media - Freelance', 'Social media - Time de Criação']\n",
      "['Sicoob Agrocredi', 'Nelogica', 'Colégio Arnaldo', 'Equipe Cine', 'TrabalhaBrasil', 'Fundação São Paulo', 'M3 Social | MKT Digital', 'Equipe Cine', 'UOL EdTech', 'MXLOG', 'Agência RF', 'VISS Cabeleireiros Visagistas', 'Suzanbela', 'Rede Verbita de Educação', 'It Stone Semi Joias', 'Transpocred – Cooperativa Ailos', 'Fadami - Software & Innovation', 'Fourmi Publicidade', 'TrabalhaBrasil', 'Salli Brasil', 'Mindblowing Agency', 'Studio Sol', 'Inside', 'AKL Marketing Pet', 'Like Design']\n",
      "['Não aplicável', 'Assistente', 'Assistente', 'Assistente', 'Pleno-sênior', 'Não aplicável', 'Assistente', 'Assistente', 'Assistente', 'Assistente', 'Assistente', 'Assistente', 'Assistente', 'Não aplicável', 'Assistente', 'Não aplicável', 'Não aplicável', 'Assistente', 'Assistente', 'Assistente', 'Assistente', 'Não aplicável', 'Estágio', 'Pleno-sênior', 'Não aplicável']\n",
      "['Tempo integral', 'Tempo integral', 'Tempo integral', 'Tempo integral', 'Tempo integral', 'Tempo integral', 'Tempo integral', 'Tempo integral', 'Tempo integral', 'Tempo integral', 'Tempo integral', 'Tempo integral', 'Tempo integral', 'Tempo integral', 'Tempo integral', 'Tempo integral', 'Tempo integral', 'Tempo integral', 'Tempo integral', 'Tempo integral', 'Tempo integral', 'Tempo integral', 'Tempo integral', 'Tempo integral', 'Tempo integral']\n",
      "['Menos de 25 candidaturas', 'Mais de 200 candidaturas', 'Menos de 25 candidaturas', '71 candidaturas', 'Menos de 25 candidaturas', 'Mais de 200 candidaturas', '86 candidaturas', '37 candidaturas', 'Mais de 200 candidaturas', 'Menos de 25 candidaturas', 'Menos de 25 candidaturas', '25 candidaturas', 'Menos de 25 candidaturas', '57 candidaturas', '28 candidaturas', 'Mais de 200 candidaturas', '108 candidaturas', '135 candidaturas', 'Menos de 25 candidaturas', '36 candidaturas', 'Menos de 25 candidaturas', 'Mais de 200 candidaturas', 'Menos de 25 candidaturas', '26 candidaturas', 'Menos de 25 candidaturas']\n",
      "[None, None, None, None, None, None, None, None, None, None, None, None, None, None, None, None, None, None, None, None, None, None, None, None, None]\n",
      "['https://br.linkedin.com/company/sicoob-agrocredi?trk=public_jobs_topcard-org-name', 'https://br.linkedin.com/company/nelogica?trk=public_jobs_topcard-org-name', 'https://br.linkedin.com/company/col%C3%A9gio-arnaldo?trk=public_jobs_topcard-org-name', 'https://br.linkedin.com/company/equipe-cine?trk=public_jobs_topcard-org-name', 'https://br.linkedin.com/company/trabalhabrasil?trk=public_jobs_topcard-org-name', 'https://br.linkedin.com/company/funda%C3%A7%C3%A3o-s%C3%A3o-paulo?trk=public_jobs_topcard-org-name', 'https://br.linkedin.com/company/agenciam3social?trk=public_jobs_topcard-org-name', 'https://br.linkedin.com/company/equipe-cine?trk=public_jobs_topcard-org-name', 'https://br.linkedin.com/company/ciatech-uoledtech?trk=public_jobs_topcard-org-name', 'https://br.linkedin.com/company/mx-log?trk=public_jobs_topcard-org-name', 'https://br.linkedin.com/company/r%C3%A1dio-conte%C3%BAdo?trk=public_jobs_topcard-org-name', 'https://br.linkedin.com/company/viss-cabeleireiros-visagistas?trk=public_jobs_topcard-org-name', 'https://br.linkedin.com/company/suzanbela?trk=public_jobs_topcard-org-name', 'https://br.linkedin.com/company/redeverbita?trk=public_jobs_topcard-org-name', 'https://br.linkedin.com/company/it-stone-semi-joias?trk=public_jobs_topcard-org-name', 'https://br.linkedin.com/company/transpocred-ailos?trk=public_jobs_topcard-org-name', 'https://br.linkedin.com/company/fadami?trk=public_jobs_topcard-org-name', 'https://br.linkedin.com/company/fourmi-publicidade?trk=public_jobs_topcard-org-name', 'https://br.linkedin.com/company/trabalhabrasil?trk=public_jobs_topcard-org-name', 'https://br.linkedin.com/company/sallibrasil?trk=public_jobs_topcard-org-name', 'https://br.linkedin.com/company/nordedigital?trk=public_jobs_topcard-org-name', 'https://br.linkedin.com/company/studio-sol?trk=public_jobs_topcard-org-name', 'https://br.linkedin.com/company/inside-diagnosticos?trk=public_jobs_topcard-org-name', 'https://br.linkedin.com/company/akl-marketing-pet?trk=public_jobs_topcard-org-name', 'https://br.linkedin.com/company/likedesign?trk=public_jobs_topcard-org-name']\n",
      "['05/04/2023 12:05', '05/04/2023 12:05', '05/04/2023 12:05', '05/04/2023 12:06', '05/04/2023 12:06', '05/04/2023 12:06', '05/04/2023 12:06', '05/04/2023 12:06', '05/04/2023 12:06', '05/04/2023 12:06', '05/04/2023 12:07', '05/04/2023 12:07', '05/04/2023 12:07', '05/04/2023 12:07', '05/04/2023 12:07', '05/04/2023 12:07', '05/04/2023 12:07', '05/04/2023 12:07', '05/04/2023 12:08', '05/04/2023 12:08', '05/04/2023 12:08', '05/04/2023 12:08', '05/04/2023 12:08', '05/04/2023 12:09', '05/04/2023 12:09']\n",
      "['4.659 seguidores', '302.842 seguidores', '5.285 seguidores', 'Não informado', 'Não informado', '2.932 seguidores', '1.709 seguidores', 'Não informado', '71.918 seguidores', '961 seguidores', '622 seguidores', '2.239 seguidores', '70 seguidores', '4.870 seguidores', '57 seguidores', '21.536 seguidores', '1.786 seguidores', '1.310 seguidores', 'Não informado', '1.539 seguidores', '442 seguidores', '8.833 seguidores', '2.811 seguidores', '240 seguidores', '124 seguidores']\n",
      "['R Capitao Joaquim Norberto, 105\\nGuaxupe, Mg 37800-000, BR', 'Avenida Carlos Gomes 400\\nPorto Alegre, Rio Grande do Sul 90480-000, BR', 'Praça João Pessoa, 200 Funcionários\\nBELO HORIZONTE , MG 30140-020, BR', 'Rua Gaspar Soares 226\\nSão Paulo, BR', 'Curitiba, BR', 'Rua João Ramalho\\n182\\nSão Paulo, SP 05008000, BR', 'São Paulo, São Paulo 03026001, BR', 'Rua Gaspar Soares 226\\nSão Paulo, BR', 'Rua James Joule 65\\n8 e 9 andar\\nSão Paulo, SP 04576-080, BR', 'Av. Humberto de Alencar Castelo Branco, 1260 - Galpão 02 - Jardim Santo Ignácio\\nSão Bernardo do Campo, São Paulo 09850-300, BR', 'Avenida General Ataliba Leonel, 533\\nSão Paulo, SP 02033-000, BR', 'Avenida Rouxinol 115\\nSão Paulo, São Paulo 04516-000, BR', 'Av Armando Sales De Oliveira, 633\\nSuzano, São Paulo 08673-000, BR', 'Rua dos Timbiras 519\\nBelo Horizonte, Minas Gerais 30140-060, BR', 'Rua Do 311 Sala 407\\nRio de Janeiro, Rj 22220-001, BR', 'R. José Cândido da Silva, 225\\nFlorianópolis, Santa Catarina 88075-250, BR', 'Av.: Presidente Vargas, 482\\nRio de Janeiro, RJ 20071000, BR', 'Av. Antonio Artioli, 570\\nCampinas, São Paulo 13013-082, BR', 'Curitiba, BR', 'Alameda dos Maracatins, 780\\nConj. 2302, Moema\\nSão Paulo, SP 04089-001, BR', 'Macaé, Rio de Janeiro, BR', 'Rua Paraíba, 550 - 22° andar\\nSavassi\\nBelo Horizonte, Minas Gerais 30130-141, BR', 'Avenida Angélica 2318\\n14 Andar\\nSão Paulo, São Paulo 01228-200, BR', 'São Paulo, SP, BR', 'Rua Urbano Santos, 155\\nsala 1402\\nImperatriz, MA 65900-410, BR']\n",
      "['201-500 funcionários', '501-1.000 funcionários', '201-500 funcionários', '51-200 funcionários', '51-200 funcionários', '1.001-5.000 funcionários', '2-10 funcionários', '51-200 funcionários', '501-1.000 funcionários', '201-500 funcionários', '11-50 funcionários', '51-200 funcionários', '11-50 funcionários', '501-1.000 funcionários', '2-10 funcionários', '51-200 funcionários', '51-200 funcionários', '11-50 funcionários', '51-200 funcionários', '11-50 funcionários', '11-50 funcionários', '51-200 funcionários', '501-1.000 funcionários', '11-50 funcionários', '11-50 funcionários']\n"
     ]
    }
   ],
   "source": [
    "print(vagas_links)\n",
    "print(vagas_title)\n",
    "print(vagas_empresa)\n",
    "print(vagas_tipo)\n",
    "print(vagas_nivel)\n",
    "\n",
    "print(num_candidaturas)\n",
    "print(URL_candidatura)\n",
    "\n",
    "print(links_sites_emp)\n",
    "print(horario_Scraping)\n",
    "\n",
    "print(seguidores_empresa)\n",
    "print(local_empresa)\n",
    "\n",
    "print(qtd_func)"
   ]
  },
  {
   "cell_type": "code",
   "execution_count": 124,
   "id": "542c074a",
   "metadata": {},
   "outputs": [],
   "source": [
    "col = [\"URL da vaga no linkedin\", \"Nome da vaga\", \n",
    "                 \"Nome da empresa contratante\",\"URL da empresa contratante\",\n",
    "                \"Tipo de contratação\", \"Nível de experiência\", \"Número de candidaturas para vaga\",\n",
    "                 \"Horário do scraping\", \"Número de funcionários da empresa\", \"Número de seguidores da empresa\",\n",
    "                \"Local sede da empresa\"]\n",
    "df = pd.DataFrame({\"URL da vaga no linkedin\":vagas_links, \"Nome da vaga\":vagas_title, \n",
    "                 \"Nome da empresa contratante\":vagas_empresa,\"URL da empresa contratante\":links_sites_emp,\n",
    "                \"Tipo de contratação\":vagas_tipo, \"Nível de experiência\":vagas_nivel, \"Número de candidaturas para vaga\":num_candidaturas,\n",
    "                   \"Horário do scraping\": horario_Scraping, \"Número de funcionários da empresa\":qtd_func,\n",
    "                   \"Número de seguidores da empresa\":seguidores_empresa,\"Local sede da empresa\":local_empresa})\n",
    "\n"
   ]
  },
  {
   "cell_type": "code",
   "execution_count": 125,
   "id": "c25a981a",
   "metadata": {},
   "outputs": [
    {
     "data": {
      "text/plain": [
       "<bound method NDFrame.head of                               URL da vaga no linkedin  \\\n",
       "0   https://br.linkedin.com/jobs/view/analista-de-...   \n",
       "1   https://br.linkedin.com/jobs/view/brand-design...   \n",
       "2   https://br.linkedin.com/jobs/view/assistente-d...   \n",
       "3   https://br.linkedin.com/jobs/view/assistente-d...   \n",
       "4   https://br.linkedin.com/jobs/view/analista-de-...   \n",
       "5   https://br.linkedin.com/jobs/view/assistente-d...   \n",
       "6   https://br.linkedin.com/jobs/view/social-media...   \n",
       "7   https://br.linkedin.com/jobs/view/assistente-d...   \n",
       "8   https://br.linkedin.com/jobs/view/analista-de-...   \n",
       "9   https://br.linkedin.com/jobs/view/assistente-d...   \n",
       "10  https://br.linkedin.com/jobs/view/social-media...   \n",
       "11  https://br.linkedin.com/jobs/view/social-media...   \n",
       "12  https://br.linkedin.com/jobs/view/social-media...   \n",
       "13  https://br.linkedin.com/jobs/view/assistente-d...   \n",
       "14  https://br.linkedin.com/jobs/view/assistente-d...   \n",
       "15  https://br.linkedin.com/jobs/view/assistente-d...   \n",
       "16  https://br.linkedin.com/jobs/view/designer-jr-...   \n",
       "17  https://br.linkedin.com/jobs/view/assistente-d...   \n",
       "18  https://br.linkedin.com/jobs/view/assistente-d...   \n",
       "19  https://br.linkedin.com/jobs/view/social-media...   \n",
       "20  https://br.linkedin.com/jobs/view/social-media...   \n",
       "21  https://br.linkedin.com/jobs/view/est%C3%A1gio...   \n",
       "22  https://br.linkedin.com/jobs/view/est%C3%A1gio...   \n",
       "23  https://br.linkedin.com/jobs/view/social-media...   \n",
       "24  https://br.linkedin.com/jobs/view/social-media...   \n",
       "\n",
       "                                         Nome da vaga  \\\n",
       "0          Analista de Comunicação e Marketing Junior   \n",
       "1                                      Brand Designer   \n",
       "2               Assistente de Comunicação e Marketing   \n",
       "3               Assistente de Marketing e Publicidade   \n",
       "4                             Analista de Publicidade   \n",
       "5   Assistente de Mídias Sociais/Digitais ( Social...   \n",
       "6                                 Social Media Júnior   \n",
       "7               Assistente de Publicidade e Marketing   \n",
       "8                        Analista de Social Media Jr.   \n",
       "9                             Assistente de Marketing   \n",
       "10                                       Social Media   \n",
       "11                                       Social Media   \n",
       "12                                       Social Media   \n",
       "13              Assistente de Comunicação e Marketing   \n",
       "14                Assistente de design e social media   \n",
       "15  Assistente de Comunicação e Marketing - Floria...   \n",
       "16                                        Designer Jr   \n",
       "17                            Assistente de Marketing   \n",
       "18                            Assistente de Marketing   \n",
       "19                           Social Media - (Estágio)   \n",
       "20                                       Social Media   \n",
       "21                            Estágio em Social Media   \n",
       "22                    Estágio - Social Media (305152)   \n",
       "23                           Social Media - Freelance   \n",
       "24                     Social media - Time de Criação   \n",
       "\n",
       "        Nome da empresa contratante  \\\n",
       "0                  Sicoob Agrocredi   \n",
       "1                          Nelogica   \n",
       "2                   Colégio Arnaldo   \n",
       "3                       Equipe Cine   \n",
       "4                    TrabalhaBrasil   \n",
       "5                Fundação São Paulo   \n",
       "6           M3 Social | MKT Digital   \n",
       "7                       Equipe Cine   \n",
       "8                        UOL EdTech   \n",
       "9                             MXLOG   \n",
       "10                       Agência RF   \n",
       "11    VISS Cabeleireiros Visagistas   \n",
       "12                        Suzanbela   \n",
       "13         Rede Verbita de Educação   \n",
       "14              It Stone Semi Joias   \n",
       "15  Transpocred – Cooperativa Ailos   \n",
       "16   Fadami - Software & Innovation   \n",
       "17               Fourmi Publicidade   \n",
       "18                   TrabalhaBrasil   \n",
       "19                     Salli Brasil   \n",
       "20               Mindblowing Agency   \n",
       "21                       Studio Sol   \n",
       "22                           Inside   \n",
       "23                AKL Marketing Pet   \n",
       "24                      Like Design   \n",
       "\n",
       "                           URL da empresa contratante Tipo de contratação  \\\n",
       "0   https://br.linkedin.com/company/sicoob-agrocre...       Não aplicável   \n",
       "1   https://br.linkedin.com/company/nelogica?trk=p...          Assistente   \n",
       "2   https://br.linkedin.com/company/col%C3%A9gio-a...          Assistente   \n",
       "3   https://br.linkedin.com/company/equipe-cine?tr...          Assistente   \n",
       "4   https://br.linkedin.com/company/trabalhabrasil...        Pleno-sênior   \n",
       "5   https://br.linkedin.com/company/funda%C3%A7%C3...       Não aplicável   \n",
       "6   https://br.linkedin.com/company/agenciam3socia...          Assistente   \n",
       "7   https://br.linkedin.com/company/equipe-cine?tr...          Assistente   \n",
       "8   https://br.linkedin.com/company/ciatech-uoledt...          Assistente   \n",
       "9   https://br.linkedin.com/company/mx-log?trk=pub...          Assistente   \n",
       "10  https://br.linkedin.com/company/r%C3%A1dio-con...          Assistente   \n",
       "11  https://br.linkedin.com/company/viss-cabeleire...          Assistente   \n",
       "12  https://br.linkedin.com/company/suzanbela?trk=...          Assistente   \n",
       "13  https://br.linkedin.com/company/redeverbita?tr...       Não aplicável   \n",
       "14  https://br.linkedin.com/company/it-stone-semi-...          Assistente   \n",
       "15  https://br.linkedin.com/company/transpocred-ai...       Não aplicável   \n",
       "16  https://br.linkedin.com/company/fadami?trk=pub...       Não aplicável   \n",
       "17  https://br.linkedin.com/company/fourmi-publici...          Assistente   \n",
       "18  https://br.linkedin.com/company/trabalhabrasil...          Assistente   \n",
       "19  https://br.linkedin.com/company/sallibrasil?tr...          Assistente   \n",
       "20  https://br.linkedin.com/company/nordedigital?t...          Assistente   \n",
       "21  https://br.linkedin.com/company/studio-sol?trk...       Não aplicável   \n",
       "22  https://br.linkedin.com/company/inside-diagnos...             Estágio   \n",
       "23  https://br.linkedin.com/company/akl-marketing-...        Pleno-sênior   \n",
       "24  https://br.linkedin.com/company/likedesign?trk...       Não aplicável   \n",
       "\n",
       "   Nível de experiência Número de candidaturas para vaga Horário do scraping  \\\n",
       "0        Tempo integral         Menos de 25 candidaturas    05/04/2023 12:05   \n",
       "1        Tempo integral         Mais de 200 candidaturas    05/04/2023 12:05   \n",
       "2        Tempo integral         Menos de 25 candidaturas    05/04/2023 12:05   \n",
       "3        Tempo integral                  71 candidaturas    05/04/2023 12:06   \n",
       "4        Tempo integral         Menos de 25 candidaturas    05/04/2023 12:06   \n",
       "5        Tempo integral         Mais de 200 candidaturas    05/04/2023 12:06   \n",
       "6        Tempo integral                  86 candidaturas    05/04/2023 12:06   \n",
       "7        Tempo integral                  37 candidaturas    05/04/2023 12:06   \n",
       "8        Tempo integral         Mais de 200 candidaturas    05/04/2023 12:06   \n",
       "9        Tempo integral         Menos de 25 candidaturas    05/04/2023 12:06   \n",
       "10       Tempo integral         Menos de 25 candidaturas    05/04/2023 12:07   \n",
       "11       Tempo integral                  25 candidaturas    05/04/2023 12:07   \n",
       "12       Tempo integral         Menos de 25 candidaturas    05/04/2023 12:07   \n",
       "13       Tempo integral                  57 candidaturas    05/04/2023 12:07   \n",
       "14       Tempo integral                  28 candidaturas    05/04/2023 12:07   \n",
       "15       Tempo integral         Mais de 200 candidaturas    05/04/2023 12:07   \n",
       "16       Tempo integral                 108 candidaturas    05/04/2023 12:07   \n",
       "17       Tempo integral                 135 candidaturas    05/04/2023 12:07   \n",
       "18       Tempo integral         Menos de 25 candidaturas    05/04/2023 12:08   \n",
       "19       Tempo integral                  36 candidaturas    05/04/2023 12:08   \n",
       "20       Tempo integral         Menos de 25 candidaturas    05/04/2023 12:08   \n",
       "21       Tempo integral         Mais de 200 candidaturas    05/04/2023 12:08   \n",
       "22       Tempo integral         Menos de 25 candidaturas    05/04/2023 12:08   \n",
       "23       Tempo integral                  26 candidaturas    05/04/2023 12:09   \n",
       "24       Tempo integral         Menos de 25 candidaturas    05/04/2023 12:09   \n",
       "\n",
       "   Número de funcionários da empresa Número de seguidores da empresa  \\\n",
       "0               201-500 funcionários                4.659 seguidores   \n",
       "1             501-1.000 funcionários              302.842 seguidores   \n",
       "2               201-500 funcionários                5.285 seguidores   \n",
       "3                51-200 funcionários                   Não informado   \n",
       "4                51-200 funcionários                   Não informado   \n",
       "5           1.001-5.000 funcionários                2.932 seguidores   \n",
       "6                  2-10 funcionários                1.709 seguidores   \n",
       "7                51-200 funcionários                   Não informado   \n",
       "8             501-1.000 funcionários               71.918 seguidores   \n",
       "9               201-500 funcionários                  961 seguidores   \n",
       "10                11-50 funcionários                  622 seguidores   \n",
       "11               51-200 funcionários                2.239 seguidores   \n",
       "12                11-50 funcionários                   70 seguidores   \n",
       "13            501-1.000 funcionários                4.870 seguidores   \n",
       "14                 2-10 funcionários                   57 seguidores   \n",
       "15               51-200 funcionários               21.536 seguidores   \n",
       "16               51-200 funcionários                1.786 seguidores   \n",
       "17                11-50 funcionários                1.310 seguidores   \n",
       "18               51-200 funcionários                   Não informado   \n",
       "19                11-50 funcionários                1.539 seguidores   \n",
       "20                11-50 funcionários                  442 seguidores   \n",
       "21               51-200 funcionários                8.833 seguidores   \n",
       "22            501-1.000 funcionários                2.811 seguidores   \n",
       "23                11-50 funcionários                  240 seguidores   \n",
       "24                11-50 funcionários                  124 seguidores   \n",
       "\n",
       "                                Local sede da empresa  \n",
       "0   R Capitao Joaquim Norberto, 105\\nGuaxupe, Mg 3...  \n",
       "1   Avenida Carlos Gomes 400\\nPorto Alegre, Rio Gr...  \n",
       "2   Praça João Pessoa, 200 Funcionários\\nBELO HORI...  \n",
       "3                Rua Gaspar Soares 226\\nSão Paulo, BR  \n",
       "4                                        Curitiba, BR  \n",
       "5   Rua João Ramalho\\n182\\nSão Paulo, SP 05008000, BR  \n",
       "6                   São Paulo, São Paulo 03026001, BR  \n",
       "7                Rua Gaspar Soares 226\\nSão Paulo, BR  \n",
       "8   Rua James Joule 65\\n8 e 9 andar\\nSão Paulo, SP...  \n",
       "9   Av. Humberto de Alencar Castelo Branco, 1260 -...  \n",
       "10  Avenida General Ataliba Leonel, 533\\nSão Paulo...  \n",
       "11  Avenida Rouxinol 115\\nSão Paulo, São Paulo 045...  \n",
       "12  Av Armando Sales De Oliveira, 633\\nSuzano, São...  \n",
       "13  Rua dos Timbiras 519\\nBelo Horizonte, Minas Ge...  \n",
       "14  Rua Do 311 Sala 407\\nRio de Janeiro, Rj 22220-...  \n",
       "15  R. José Cândido da Silva, 225\\nFlorianópolis, ...  \n",
       "16  Av.: Presidente Vargas, 482\\nRio de Janeiro, R...  \n",
       "17  Av. Antonio Artioli, 570\\nCampinas, São Paulo ...  \n",
       "18                                       Curitiba, BR  \n",
       "19  Alameda dos Maracatins, 780\\nConj. 2302, Moema...  \n",
       "20                          Macaé, Rio de Janeiro, BR  \n",
       "21  Rua Paraíba, 550 - 22° andar\\nSavassi\\nBelo Ho...  \n",
       "22  Avenida Angélica 2318\\n14 Andar\\nSão Paulo, Sã...  \n",
       "23                                  São Paulo, SP, BR  \n",
       "24  Rua Urbano Santos, 155\\nsala 1402\\nImperatriz,...  >"
      ]
     },
     "execution_count": 125,
     "metadata": {},
     "output_type": "execute_result"
    }
   ],
   "source": [
    "df.head"
   ]
  },
  {
   "cell_type": "code",
   "execution_count": 126,
   "id": "6ed40f8d",
   "metadata": {},
   "outputs": [],
   "source": [
    "df.to_csv(\"Scraping - Francisco Davi Gomes de Oliveira.csv\", mode='w')"
   ]
  },
  {
   "cell_type": "code",
   "execution_count": null,
   "id": "ba56360b",
   "metadata": {},
   "outputs": [],
   "source": []
  }
 ],
 "metadata": {
  "kernelspec": {
   "display_name": "Python 3 (ipykernel)",
   "language": "python",
   "name": "python3"
  },
  "language_info": {
   "codemirror_mode": {
    "name": "ipython",
    "version": 3
   },
   "file_extension": ".py",
   "mimetype": "text/x-python",
   "name": "python",
   "nbconvert_exporter": "python",
   "pygments_lexer": "ipython3",
   "version": "3.9.13"
  }
 },
 "nbformat": 4,
 "nbformat_minor": 5
}

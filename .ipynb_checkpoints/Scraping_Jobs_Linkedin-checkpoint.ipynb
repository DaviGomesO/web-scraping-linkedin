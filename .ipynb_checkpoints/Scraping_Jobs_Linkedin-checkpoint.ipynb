{
 "cells": [
  {
   "cell_type": "markdown",
   "id": "3cc79cfd",
   "metadata": {},
   "source": [
    "#### Aqui iniciei com o import do selenium\n",
    "###### Mas antes foi preciso fazer a instalação das bibliotecas:\n",
    "- pip install selenium\n",
    "- pip install scrapy\n",
    "- pip install ipython"
   ]
  },
  {
   "cell_type": "code",
   "execution_count": 73,
   "id": "ff8913bb",
   "metadata": {},
   "outputs": [],
   "source": [
    "from selenium import webdriver\n",
    "from selenium.webdriver.chrome.options import Options\n",
    "from selenium.webdriver.chrome.service import Service\n",
    "from webdriver_manager.chrome import ChromeDriverManager\n",
    "from selenium.webdriver.common.by import By\n",
    "from time import sleep"
   ]
  },
  {
   "cell_type": "markdown",
   "id": "772efd9b",
   "metadata": {},
   "source": [
    "##### Fiz a instalação do chromedriver e em seguida abro a página do Google"
   ]
  },
  {
   "cell_type": "code",
   "execution_count": 114,
   "id": "42421884",
   "metadata": {},
   "outputs": [],
   "source": [
    "options = Options()\n",
    "options.add_argument(\"start-maximized\")\n",
    "driver = webdriver.Chrome(service=Service(ChromeDriverManager().install()), options=options)\n",
    "driver.get(\"https://www.google.com\")"
   ]
  },
  {
   "cell_type": "markdown",
   "id": "aef12837",
   "metadata": {},
   "source": [
    "##### Em seguida, insiro a palavra chave para busca, e abro o Linkedin"
   ]
  },
  {
   "cell_type": "code",
   "execution_count": 115,
   "id": "d9e8b5b7",
   "metadata": {},
   "outputs": [],
   "source": [
    "driver.find_element('name', 'q').send_keys('vagas marketing')\n",
    "driver.get(\"https://www.linkedin.com\")"
   ]
  },
  {
   "cell_type": "markdown",
   "id": "51684160",
   "metadata": {},
   "source": [
    "###### Ao abrir o Linkedin, não irei logar, portanto seleciono button para vagas"
   ]
  },
  {
   "cell_type": "code",
   "execution_count": 116,
   "id": "a7b53362",
   "metadata": {},
   "outputs": [],
   "source": [
    "sleep(3)\n",
    "driver.find_elements(by=By.XPATH, value='/html/body/nav/ul/li[4]/a')[0].click()"
   ]
  },
  {
   "cell_type": "markdown",
   "id": "a25d09a5",
   "metadata": {},
   "source": [
    "###### Em seguida, limpo a label de localidade e a label de palavras-chaves para vagas, e insiro a que quero buscar"
   ]
  },
  {
   "cell_type": "code",
   "execution_count": 117,
   "id": "72d5e15b",
   "metadata": {},
   "outputs": [],
   "source": [
    "driver.find_element('name','keywords').clear()\n",
    "driver.find_element('name','keywords').send_keys('Marketing E Publicidade')\n",
    "driver.find_element('name','location').clear()\n",
    "driver.find_element('name','location').send_keys('Brasil')"
   ]
  },
  {
   "cell_type": "markdown",
   "id": "d1467ef4",
   "metadata": {},
   "source": [
    "###### Seleciono o localidade 1 das opções que aparece ao preencher a label"
   ]
  },
  {
   "cell_type": "code",
   "execution_count": 118,
   "id": "062801e0",
   "metadata": {},
   "outputs": [],
   "source": [
    "sleep(3)\n",
    "driver.find_elements(by=By.XPATH, value='//*[@id=\"location-1\"]')[0].click()"
   ]
  },
  {
   "cell_type": "markdown",
   "id": "7e333027",
   "metadata": {},
   "source": [
    "###### Aqui irei abrir os filtros para tipos de vaga, e selecionar o filtro Tempo integral e Estágio, por último seleciono o botão concluído"
   ]
  },
  {
   "cell_type": "code",
   "execution_count": 119,
   "id": "6c62b9a1",
   "metadata": {},
   "outputs": [],
   "source": [
    "sleep(3)\n",
    "driver.find_elements(by=By.XPATH, value='//*[@id=\"jserp-filters\"]/ul/li[4]/div/div/button')[0].click()"
   ]
  },
  {
   "cell_type": "code",
   "execution_count": 120,
   "id": "9900cd4c",
   "metadata": {},
   "outputs": [],
   "source": [
    "sleep(3)\n",
    "driver.find_elements(by=By.XPATH, value='//*[@id=\"jserp-filters\"]/ul/li[4]/div/div/div/div/div/div[1]/label')[0].click()"
   ]
  },
  {
   "cell_type": "code",
   "execution_count": 121,
   "id": "fe75aff8",
   "metadata": {},
   "outputs": [
    {
     "data": {
      "text/plain": [
       "'sleep(3)\\ndriver.find_elements(by=By.XPATH, value=\\'//*[@id=\"jserp-filters\"]/ul/li[4]/div/div/div/div/div/div[5]/label\\')[0].click()'"
      ]
     },
     "execution_count": 121,
     "metadata": {},
     "output_type": "execute_result"
    }
   ],
   "source": [
    "'''sleep(3)\n",
    "driver.find_elements(by=By.XPATH, value='//*[@id=\"jserp-filters\"]/ul/li[4]/div/div/div/div/div/div[5]/label')[0].click()'''"
   ]
  },
  {
   "cell_type": "code",
   "execution_count": 122,
   "id": "4b8b243d",
   "metadata": {},
   "outputs": [],
   "source": [
    "sleep(3)\n",
    "driver.find_elements(by=By.XPATH, value='//*[@id=\"jserp-filters\"]/ul/li[4]/div/div/div/button')[0].click()"
   ]
  },
  {
   "cell_type": "code",
   "execution_count": 123,
   "id": "3cc875da",
   "metadata": {},
   "outputs": [],
   "source": [
    "driver.find_elements(by=By.XPATH, value='/html/body/div[3]/button')[0].click()"
   ]
  },
  {
   "cell_type": "markdown",
   "id": "1d729c0a",
   "metadata": {},
   "source": [
    "###### Pegando link das vagas"
   ]
  },
  {
   "cell_type": "code",
   "execution_count": 124,
   "id": "a11ea820",
   "metadata": {},
   "outputs": [
    {
     "name": "stdout",
     "output_type": "stream",
     "text": [
      "['https://br.linkedin.com/jobs/view/assistente-marketing-digital-jr-i-at-fecap-3519849214?refId=g3%2FoVtNbb7oArgfi18HD3Q%3D%3D&trackingId=A%2BOou3%2FGWHZcb%2Bvo%2B0WPFA%3D%3D&position=1&pageNum=0&trk=public_jobs_jserp-result_search-card', 'https://br.linkedin.com/jobs/view/marketing-gerente-de-marca-at-gupy-3549332779?refId=g3%2FoVtNbb7oArgfi18HD3Q%3D%3D&trackingId=JR3n55A9v2Ca4sDw6%2BsFpA%3D%3D&position=2&pageNum=0&trk=public_jobs_jserp-result_search-card', 'https://br.linkedin.com/jobs/view/est%C3%A1gio-em-marketing-centro-de-servi%C3%A7os-at-tam-avia%C3%A7%C3%A3o-executiva-3515355823?refId=g3%2FoVtNbb7oArgfi18HD3Q%3D%3D&trackingId=i8lToVgVKY6qwb3NZiJDBw%3D%3D&position=3&pageNum=0&trk=public_jobs_jserp-result_search-card', 'https://br.linkedin.com/jobs/view/analista-de-trade-marketing-jr-at-britvic-brasil-3531431671?refId=g3%2FoVtNbb7oArgfi18HD3Q%3D%3D&trackingId=7H03uM5bp%2FOcI4crup5z9w%3D%3D&position=4&pageNum=0&trk=public_jobs_jserp-result_search-card', 'https://br.linkedin.com/jobs/view/social-media-freelancer-home-office-at-confidencial-3505197500?refId=g3%2FoVtNbb7oArgfi18HD3Q%3D%3D&trackingId=8g10o%2B8xeJYSxj1RHfkBRw%3D%3D&position=5&pageNum=0&trk=public_jobs_jserp-result_search-card', 'https://br.linkedin.com/jobs/view/assistente-de-marketing-at-fortlev-3542813615?refId=g3%2FoVtNbb7oArgfi18HD3Q%3D%3D&trackingId=%2FEPjVcGQtBji2weSPV6hVw%3D%3D&position=6&pageNum=0&trk=public_jobs_jserp-result_search-card', 'https://br.linkedin.com/jobs/view/social-media-jardim-avelino-s%C3%A3o-paulo-sp-at-cl%C3%ADnica-odontol%C3%B3gica-3526211622?refId=g3%2FoVtNbb7oArgfi18HD3Q%3D%3D&trackingId=5FOfIrjNxpIgjqjHg1lNCA%3D%3D&position=7&pageNum=0&trk=public_jobs_jserp-result_search-card', 'https://br.linkedin.com/jobs/view/social-media-at-reponto-estrat%C3%A9gia-em-sele%C3%A7%C3%A3o-3545165665?refId=g3%2FoVtNbb7oArgfi18HD3Q%3D%3D&trackingId=bV8J5i1s7LBCXIhVzWdmuw%3D%3D&position=8&pageNum=0&trk=public_jobs_jserp-result_search-card', 'https://br.linkedin.com/jobs/view/social-media-j%C3%BAnior-at-m3-social-mkt-digital-3508096057?refId=g3%2FoVtNbb7oArgfi18HD3Q%3D%3D&trackingId=3ftbIieqNzGVlvdJMWRtcw%3D%3D&position=9&pageNum=0&trk=public_jobs_jserp-result_search-card', 'https://br.linkedin.com/jobs/view/assistente-de-comunica%C3%A7%C3%A3o-e-marketing-at-col%C3%A9gio-arnaldo-3550936358?refId=g3%2FoVtNbb7oArgfi18HD3Q%3D%3D&trackingId=4zw5VLWU7pKtIEQfFaowqw%3D%3D&position=10&pageNum=0&trk=public_jobs_jserp-result_search-card', 'https://br.linkedin.com/jobs/view/analista-de-trade-marketing-junior-at-astra-3545015120?refId=g3%2FoVtNbb7oArgfi18HD3Q%3D%3D&trackingId=KJLQTnvWe4V2t6ASVo%2FLag%3D%3D&position=11&pageNum=0&trk=public_jobs_jserp-result_search-card', 'https://br.linkedin.com/jobs/view/social-media-j%C3%BAnior-presencial-at-rmaish-3521487912?refId=g3%2FoVtNbb7oArgfi18HD3Q%3D%3D&trackingId=Mc2cV3Cc5%2BbYZM%2FyqbVIfg%3D%3D&position=12&pageNum=0&trk=public_jobs_jserp-result_search-card', 'https://br.linkedin.com/jobs/view/est%C3%A1gio-em-social-media-at-studio-sol-3556014459?refId=g3%2FoVtNbb7oArgfi18HD3Q%3D%3D&trackingId=l8%2BKFj%2BBuXg6LbLl%2FM5z%2Bg%3D%3D&position=13&pageNum=0&trk=public_jobs_jserp-result_search-card', 'https://br.linkedin.com/jobs/view/assistente-de-m%C3%ADdias-sociais-digitais-social-media-at-funda%C3%A7%C3%A3o-s%C3%A3o-paulo-3529648162?refId=g3%2FoVtNbb7oArgfi18HD3Q%3D%3D&trackingId=giXdsbyeCO0TgsJaw%2FLQeA%3D%3D&position=14&pageNum=0&trk=public_jobs_jserp-result_search-card', 'https://br.linkedin.com/jobs/view/est%C3%A1gio-de-marketing-e-m%C3%ADdias-sociais-vila-pomp%C3%A9ia-sp-at-enterpriserh-3550505221?refId=g3%2FoVtNbb7oArgfi18HD3Q%3D%3D&trackingId=W2rJ1aStKTPZRQ9QbrRilQ%3D%3D&position=15&pageNum=0&trk=public_jobs_jserp-result_search-card', 'https://br.linkedin.com/jobs/view/analista-de-marketing-jr-educa%C3%A7%C3%A3o-globo-at-empregueafro-3539560831?refId=g3%2FoVtNbb7oArgfi18HD3Q%3D%3D&trackingId=2qakwCDpPmho5aBOxlzH%2Bg%3D%3D&position=16&pageNum=0&trk=public_jobs_jserp-result_search-card', 'https://br.linkedin.com/jobs/view/analista-de-marketing-at-ci-interc%C3%A2mbio-3516931618?refId=g3%2FoVtNbb7oArgfi18HD3Q%3D%3D&trackingId=tgehE0p99kdttIVDjes%2FgA%3D%3D&position=17&pageNum=0&trk=public_jobs_jserp-result_search-card', 'https://br.linkedin.com/jobs/view/analista-de-comunica%C3%A7%C3%A3o-s%C3%AAnior-hibrido-at-catupiry%C2%AE-3516053793?refId=g3%2FoVtNbb7oArgfi18HD3Q%3D%3D&trackingId=TdUOzGazvDHlb1fueHOQGA%3D%3D&position=18&pageNum=0&trk=public_jobs_jserp-result_search-card', 'https://br.linkedin.com/jobs/view/social-media-at-sou-energy-3532134959?refId=g3%2FoVtNbb7oArgfi18HD3Q%3D%3D&trackingId=Wp2IZXOemo97QB1%2Byrz7XQ%3D%3D&position=19&pageNum=0&trk=public_jobs_jserp-result_search-card', 'https://br.linkedin.com/jobs/view/assistente-de-comunica%C3%A7%C3%A3o-e-marketing-florian%C3%B3polis-sc-at-transpocred-%E2%80%93-cooperativa-ailos-3515452370?refId=g3%2FoVtNbb7oArgfi18HD3Q%3D%3D&trackingId=M3VNfB6ApiTLB5TAAICN8w%3D%3D&position=20&pageNum=0&trk=public_jobs_jserp-result_search-card', 'https://br.linkedin.com/jobs/view/pessoa-estagi%C3%A1ria-em-marketing-at-britvic-brasil-3548627168?refId=g3%2FoVtNbb7oArgfi18HD3Q%3D%3D&trackingId=D3per6feXL0%2FBV5pLbFFIw%3D%3D&position=21&pageNum=0&trk=public_jobs_jserp-result_search-card', 'https://br.linkedin.com/jobs/view/analista-de-marketing-digital-at-ajinomoto-do-brasil-industria-e-com%C3%A9rcio-de-alimentos-ltda-3536572229?refId=g3%2FoVtNbb7oArgfi18HD3Q%3D%3D&trackingId=7CilJ3Mmqc3t8GjTUMZL8w%3D%3D&position=22&pageNum=0&trk=public_jobs_jserp-result_search-card', 'https://br.linkedin.com/jobs/view/especialista-marketing-at-yp%C3%AA-3529602820?refId=g3%2FoVtNbb7oArgfi18HD3Q%3D%3D&trackingId=SlHkX8h3ztfCdDkKDQ5HYQ%3D%3D&position=23&pageNum=0&trk=public_jobs_jserp-result_search-card', 'https://br.linkedin.com/jobs/view/analista-de-social-media-remote-first-at-kife-tech-3522278258?refId=g3%2FoVtNbb7oArgfi18HD3Q%3D%3D&trackingId=2pgehiQcRNfaFDFlqF%2BAVA%3D%3D&position=24&pageNum=0&trk=public_jobs_jserp-result_search-card', 'https://br.linkedin.com/jobs/view/gerente-de-eventos-pleno-curitiba-ou-florian%C3%B3polis-at-diageo-3529004996?refId=g3%2FoVtNbb7oArgfi18HD3Q%3D%3D&trackingId=%2BpZdMfs%2Fd8fLCWYVZfMNRw%3D%3D&position=25&pageNum=0&trk=public_jobs_jserp-result_search-card']\n",
      "\n",
      "25\n"
     ]
    }
   ],
   "source": [
    "vagas_link = driver.find_elements(by=By.CLASS_NAME, value='base-card__full-link')\n",
    "vagas_link=[link.get_attribute('href') for link in vagas_link]\n",
    "\n",
    "print(vagas_link)\n",
    "print()\n",
    "print(len(vagas_link))"
   ]
  },
  {
   "cell_type": "markdown",
   "id": "51b94fb1",
   "metadata": {},
   "source": [
    "###### Pegando titulos das vagas"
   ]
  },
  {
   "cell_type": "code",
   "execution_count": 125,
   "id": "a2fbb1a6",
   "metadata": {},
   "outputs": [
    {
     "name": "stdout",
     "output_type": "stream",
     "text": [
      "['Assistente Marketing Digital JR I', 'Marketing | Gerente de Marca', 'Estágio em Marketing - Centro de Serviços', 'Analista de Trade Marketing Jr', 'Social Media - FREELANCER HOME OFFICE', 'ASSISTENTE DE MARKETING', 'Social Media - Jardim Avelino- São Paulo SP', 'Social Media', 'Social Media Júnior', 'Assistente de Comunicação e Marketing', 'ANALISTA DE TRADE MARKETING JUNIOR', 'Social Media Júnior- Presencial', 'Estágio em Social Media', 'Assistente de Mídias Sociais/Digitais ( Social Media )', 'Estágio De Marketing E Mídias Sociais - Vila Pompéia (SP)', 'Analista de Marketing Jr. - Educação [Globo]', 'Analista de Marketing', 'Analista de Comunicação Sênior (Hibrido)', 'Social Media', 'Assistente de Comunicação e Marketing - Florianópolis/SC', 'Pessoa Estagiária em Marketing', 'Analista de Marketing Digital', 'Especialista Marketing', 'Analista de Social Media | Remote First', 'Gerente de Eventos Pleno - Curitiba ou Florianópolis']\n",
      "\n",
      "25\n"
     ]
    }
   ],
   "source": [
    "vagas_title = driver.find_elements(by=By.CLASS_NAME, value='base-search-card__title')\n",
    "vagas_title=[titulo.text for titulo in vagas_title]\n",
    "\n",
    "print(vagas_title)\n",
    "print()\n",
    "print(len(vagas_title))"
   ]
  },
  {
   "cell_type": "markdown",
   "id": "ccf5261c",
   "metadata": {},
   "source": [
    "###### Pegando nome das empresas das vagas"
   ]
  },
  {
   "cell_type": "code",
   "execution_count": 126,
   "id": "e020f8ab",
   "metadata": {},
   "outputs": [
    {
     "name": "stdout",
     "output_type": "stream",
     "text": [
      "['FECAP', 'Gupy', 'TAM Aviação Executiva', 'Britvic Brasil', 'Confidencial', 'FORTLEV', 'Clínica Odontológica', 'Reponto - Estratégia em Seleção', 'M3 Social | MKT Digital', 'Colégio Arnaldo', 'ASTRA', 'RmaisH', 'Studio Sol', 'Fundação São Paulo', 'Enterpriserh', 'EmpregueAfro', 'CI Intercâmbio', 'Catupiry®', 'Sou Energy', 'Transpocred – Cooperativa Ailos', 'Britvic Brasil', 'Ajinomoto do Brasil Industria e Comércio de Alimentos Ltda.', 'Ypê', 'Kife Tech', 'Diageo']\n",
      "\n",
      "25\n"
     ]
    }
   ],
   "source": [
    "vagas_empresa = driver.find_elements(by=By.CLASS_NAME, value='hidden-nested-link')\n",
    "vagas_empresa = [empresa.text for empresa in vagas_empresa]\n",
    "'''for i in vagas_empresa:\n",
    "    #print(i.text)\n",
    "    emp.append(i.text)'''\n",
    "print(vagas_empresa)\n",
    "print()\n",
    "print(len(vagas_empresa))"
   ]
  },
  {
   "cell_type": "markdown",
   "id": "e71edebe",
   "metadata": {},
   "source": [
    "###### Pegando link das empresas das vagas"
   ]
  },
  {
   "cell_type": "code",
   "execution_count": 127,
   "id": "c7c04ab4",
   "metadata": {},
   "outputs": [
    {
     "data": {
      "text/plain": [
       "\"vagas_link_emp = driver.find_elements(by=By.CLASS_NAME, value='hidden-nested-link')\\nvagas_link_emp = [link_emp.get_attribute('href') for link_emp in vagas_link_emp]\\n\\nprint(vagas_link_emp)\\nprint()\\nprint(len(vagas_link_emp))\""
      ]
     },
     "execution_count": 127,
     "metadata": {},
     "output_type": "execute_result"
    }
   ],
   "source": [
    "'''vagas_link_emp = driver.find_elements(by=By.CLASS_NAME, value='hidden-nested-link')\n",
    "vagas_link_emp = [link_emp.get_attribute('href') for link_emp in vagas_link_emp]\n",
    "\n",
    "print(vagas_link_emp)\n",
    "print()\n",
    "print(len(vagas_link_emp))'''"
   ]
  },
  {
   "cell_type": "code",
   "execution_count": 128,
   "id": "49065e12",
   "metadata": {},
   "outputs": [],
   "source": [
    "def rasp(tipo, nivel):\n",
    "    vagas_nivel = driver.find_elements(by=By.XPATH, value='//*[@id=\"main-content\"]/section[1]/div/div/section[1]/div/ul/li[1]/span')\n",
    "    for i in vagas_nivel:\n",
    "        nivel.append(i.text)\n",
    "    \n",
    "    vagas_tipo = driver.find_elements(by=By.XPATH, value='//*[@id=\"main-content\"]/section[1]/div/div/section[1]/div/ul/li[2]/span')\n",
    "    for i in vagas_tipo:\n",
    "        tipo.append(i.text)"
   ]
  },
  {
   "cell_type": "code",
   "execution_count": 143,
   "id": "dae1a702",
   "metadata": {},
   "outputs": [
    {
     "name": "stdout",
     "output_type": "stream",
     "text": [
      "https://br.linkedin.com/company/fecap?trk=public_jobs_topcard-org-name\n",
      "https://br.linkedin.com/company/gupy?trk=public_jobs_topcard-org-name\n",
      "https://br.linkedin.com/company/tamaviacaoexecutiva?trk=public_jobs_topcard-org-name\n",
      "https://br.linkedin.com/company/britvicbrasil?trk=public_jobs_topcard-org-name\n",
      "https://ca.linkedin.com/company/econfidencial?trk=public_jobs_topcard-org-name\n",
      "https://br.linkedin.com/company/fortlevbrasil?trk=public_jobs_topcard-org-name\n",
      "https://br.linkedin.com/company/clinicaodontologica?trk=public_jobs_topcard-org-name\n",
      "https://br.linkedin.com/company/reponto?trk=public_jobs_topcard-org-name\n",
      "https://br.linkedin.com/company/agenciam3social?trk=public_jobs_topcard-org-name\n",
      "https://br.linkedin.com/company/col%C3%A9gio-arnaldo?trk=public_jobs_topcard-org-name\n",
      "https://br.linkedin.com/company/astraoficialbr?trk=public_jobs_topcard-org-name\n",
      "https://br.linkedin.com/company/rmaish?trk=public_jobs_topcard-org-name\n",
      "https://br.linkedin.com/company/studio-sol?trk=public_jobs_topcard-org-name\n",
      "https://br.linkedin.com/company/funda%C3%A7%C3%A3o-s%C3%A3o-paulo?trk=public_jobs_topcard-org-name\n",
      "https://br.linkedin.com/company/enterpriserh?trk=public_jobs_topcard-org-name\n",
      "https://br.linkedin.com/company/empregueafro?trk=public_jobs_topcard-org-name\n",
      "https://br.linkedin.com/company/ci-intercambio?trk=public_jobs_topcard-org-name\n",
      "https://br.linkedin.com/company/laticinios-catupiry-ltda?trk=public_jobs_topcard-org-name\n",
      "https://br.linkedin.com/company/souenergy?trk=public_jobs_topcard-org-name\n",
      "https://br.linkedin.com/company/transpocred-ailos?trk=public_jobs_topcard-org-name\n",
      "https://br.linkedin.com/company/britvicbrasil?trk=public_jobs_topcard-org-name\n",
      "https://br.linkedin.com/company/ajinomotodobrasil?trk=public_jobs_topcard-org-name\n",
      "https://br.linkedin.com/company/ype?trk=public_jobs_topcard-org-name\n",
      "https://br.linkedin.com/company/kifetech?trk=public_jobs_topcard-org-name\n",
      "https://uk.linkedin.com/company/diageo?trk=public_jobs_topcard-org-name\n"
     ]
    }
   ],
   "source": [
    "vagas_tipo = []\n",
    "vagas_nivel = []\n",
    "#seguidores_emp = []\n",
    "links_sites_emp = []\n",
    "\n",
    "j = 1\n",
    "for i in vagas_link:\n",
    "    #print(j,i)\n",
    "    driver.get(i)\n",
    "    \n",
    "    #verificar se o url aberto foi o certo\n",
    "    #print(j,driver.current_url)\n",
    "    while driver.current_url != i:\n",
    "        driver.get(i)\n",
    "        #print(j,driver.current_url)\n",
    "    \n",
    "    rasp(vagas_nivel, vagas_tipo)\n",
    "    site_empresa = driver.find_elements(by=By.XPATH, value='//*[@id=\"main-content\"]/section[1]/div/section[2]/div/div[1]/div/h4/div[1]/span[1]/a')\n",
    "    for k in site_empresa:\n",
    "        print(k.get_attribute('href'))\n",
    "        links_sites_emp.append(k.get_attribute('href'))\n",
    "    \n",
    "    #sleep(3)\n",
    "    #print(j,driver.current_url)\n",
    "    #driver.find_elements(by=By.XPATH, value='//*[@id=\"organization_guest_contextual-sign-in\"]/div/section/button/icon/svg/path')[0].click()\n",
    "    '''seguidores = driver.find_elements(by=By.XPATH, value='//*[@id=\"main-content\"]/section[1]/section/div/div[2]/div[1]/h3')\n",
    "    for k in seguidores:\n",
    "        print(k.text[2])\n",
    "        seguidores_emp.append(k.text[2])\n",
    "    '''\n",
    "    j = j + 1\n",
    "    "
   ]
  },
  {
   "cell_type": "code",
   "execution_count": 144,
   "id": "a6dae184",
   "metadata": {},
   "outputs": [
    {
     "name": "stdout",
     "output_type": "stream",
     "text": [
      "['Assistente', 'Não aplicável', 'Não aplicável', 'Não aplicável', 'Assistente', 'Não aplicável', 'Assistente', 'Assistente', 'Assistente', 'Assistente', 'Não aplicável', 'Assistente', 'Não aplicável', 'Não aplicável', 'Estágio', 'Não aplicável', 'Assistente', 'Não aplicável', 'Não aplicável', 'Não aplicável', 'Não aplicável', 'Não aplicável', 'Assistente', 'Assistente', 'Pleno-sênior']\n",
      "25\n",
      "['Tempo integral', 'Tempo integral', 'Tempo integral', 'Tempo integral', 'Tempo integral', 'Tempo integral', 'Tempo integral', 'Tempo integral', 'Tempo integral', 'Tempo integral', 'Tempo integral', 'Tempo integral', 'Tempo integral', 'Tempo integral', 'Tempo integral', 'Tempo integral', 'Tempo integral', 'Tempo integral', 'Tempo integral', 'Tempo integral', 'Tempo integral', 'Tempo integral', 'Tempo integral', 'Tempo integral', 'Tempo integral']\n",
      "25\n",
      "['https://br.linkedin.com/company/fecap?trk=public_jobs_topcard-org-name', 'https://br.linkedin.com/company/gupy?trk=public_jobs_topcard-org-name', 'https://br.linkedin.com/company/tamaviacaoexecutiva?trk=public_jobs_topcard-org-name', 'https://br.linkedin.com/company/britvicbrasil?trk=public_jobs_topcard-org-name', 'https://ca.linkedin.com/company/econfidencial?trk=public_jobs_topcard-org-name', 'https://br.linkedin.com/company/fortlevbrasil?trk=public_jobs_topcard-org-name', 'https://br.linkedin.com/company/clinicaodontologica?trk=public_jobs_topcard-org-name', 'https://br.linkedin.com/company/reponto?trk=public_jobs_topcard-org-name', 'https://br.linkedin.com/company/agenciam3social?trk=public_jobs_topcard-org-name', 'https://br.linkedin.com/company/col%C3%A9gio-arnaldo?trk=public_jobs_topcard-org-name', 'https://br.linkedin.com/company/astraoficialbr?trk=public_jobs_topcard-org-name', 'https://br.linkedin.com/company/rmaish?trk=public_jobs_topcard-org-name', 'https://br.linkedin.com/company/studio-sol?trk=public_jobs_topcard-org-name', 'https://br.linkedin.com/company/funda%C3%A7%C3%A3o-s%C3%A3o-paulo?trk=public_jobs_topcard-org-name', 'https://br.linkedin.com/company/enterpriserh?trk=public_jobs_topcard-org-name', 'https://br.linkedin.com/company/empregueafro?trk=public_jobs_topcard-org-name', 'https://br.linkedin.com/company/ci-intercambio?trk=public_jobs_topcard-org-name', 'https://br.linkedin.com/company/laticinios-catupiry-ltda?trk=public_jobs_topcard-org-name', 'https://br.linkedin.com/company/souenergy?trk=public_jobs_topcard-org-name', 'https://br.linkedin.com/company/transpocred-ailos?trk=public_jobs_topcard-org-name', 'https://br.linkedin.com/company/britvicbrasil?trk=public_jobs_topcard-org-name', 'https://br.linkedin.com/company/ajinomotodobrasil?trk=public_jobs_topcard-org-name', 'https://br.linkedin.com/company/ype?trk=public_jobs_topcard-org-name', 'https://br.linkedin.com/company/kifetech?trk=public_jobs_topcard-org-name', 'https://uk.linkedin.com/company/diageo?trk=public_jobs_topcard-org-name']\n",
      "25\n"
     ]
    }
   ],
   "source": [
    "print(vagas_tipo)\n",
    "print(len(vagas_tipo))\n",
    "print(vagas_nivel)\n",
    "print(len(vagas_nivel))\n",
    "#print(seguidores_emp)\n",
    "print(links_sites_emp)\n",
    "print(len(links_sites_emp))"
   ]
  },
  {
   "cell_type": "code",
   "execution_count": null,
   "id": "5c2a1224",
   "metadata": {},
   "outputs": [],
   "source": []
  }
 ],
 "metadata": {
  "kernelspec": {
   "display_name": "Python 3 (ipykernel)",
   "language": "python",
   "name": "python3"
  },
  "language_info": {
   "codemirror_mode": {
    "name": "ipython",
    "version": 3
   },
   "file_extension": ".py",
   "mimetype": "text/x-python",
   "name": "python",
   "nbconvert_exporter": "python",
   "pygments_lexer": "ipython3",
   "version": "3.9.13"
  }
 },
 "nbformat": 4,
 "nbformat_minor": 5
}

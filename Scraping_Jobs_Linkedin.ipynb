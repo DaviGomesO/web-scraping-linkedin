{
 "cells": [
  {
   "cell_type": "markdown",
   "id": "3cc79cfd",
   "metadata": {},
   "source": [
    "#### Aqui iniciei com o import do selenium\n",
    "###### Mas antes foi preciso fazer a instalação das bibliotecas:\n",
    "- pip install selenium\n",
    "- pip install scrapy\n",
    "- pip install ipython"
   ]
  },
  {
   "cell_type": "code",
   "execution_count": 75,
   "id": "ff8913bb",
   "metadata": {},
   "outputs": [],
   "source": [
    "from selenium import webdriver\n",
    "from selenium.webdriver.chrome.options import Options\n",
    "from selenium.webdriver.chrome.service import Service\n",
    "from selenium.common.exceptions import NoSuchElementException\n",
    "from webdriver_manager.chrome import ChromeDriverManager\n",
    "from selenium.webdriver.common.by import By\n",
    "from selenium.webdriver.common.keys import Keys\n",
    "from selenium.webdriver.common.action_chains import ActionChains\n",
    "from time import sleep\n",
    "import re\n",
    "import datetime\n"
   ]
  },
  {
   "cell_type": "markdown",
   "id": "772efd9b",
   "metadata": {},
   "source": [
    "##### Fiz a instalação do chromedriver e em seguida abro a página do Google"
   ]
  },
  {
   "cell_type": "code",
   "execution_count": 76,
   "id": "586566c3",
   "metadata": {},
   "outputs": [
    {
     "data": {
      "text/plain": [
       "\"# arquivo csv\\nwriter = csv.writer(open('Scraping - Francisco Davi Gomes de Oliveira.csv', 'w', encoding='utf-8'))\\nwriter.writerow(['URL da vaga no linkedin', 'Nome da vaga', \\n                 'Nome da empresa contratante','URL da empresa contratante','Modelo de contratação',\\n                'Tipo de contratação','Nível de experiência','Número de candidaturas para vaga','Data da postagem da vaga',\\n                 'Horário do scraping', 'Número de funcionários da empresa', 'Número de seguidores da empresa',\\n                'Local sede da empresa','URL da candidatura'])\""
      ]
     },
     "execution_count": 76,
     "metadata": {},
     "output_type": "execute_result"
    }
   ],
   "source": [
    "'''# arquivo csv\n",
    "writer = csv.writer(open('Scraping - Francisco Davi Gomes de Oliveira.csv', 'w', encoding='utf-8'))\n",
    "writer.writerow(['URL da vaga no linkedin', 'Nome da vaga', \n",
    "                 'Nome da empresa contratante','URL da empresa contratante','Modelo de contratação',\n",
    "                'Tipo de contratação','Nível de experiência','Número de candidaturas para vaga','Data da postagem da vaga',\n",
    "                 'Horário do scraping', 'Número de funcionários da empresa', 'Número de seguidores da empresa',\n",
    "                'Local sede da empresa','URL da candidatura'])'''"
   ]
  },
  {
   "cell_type": "code",
   "execution_count": 94,
   "id": "42421884",
   "metadata": {},
   "outputs": [],
   "source": [
    "\n",
    "# Configurar o driver do navegador (exemplo usando o Chrome)\n",
    "options = Options()\n",
    "options.add_argument(\"start-maximized\")\n",
    "driver = webdriver.Chrome(service=Service(ChromeDriverManager().install()), options=options)\n",
    "driver.get(\"https://www.google.com\")"
   ]
  },
  {
   "cell_type": "markdown",
   "id": "aef12837",
   "metadata": {},
   "source": [
    "##### Em seguida, insiro a palavra chave para busca, e abro o Linkedin"
   ]
  },
  {
   "cell_type": "code",
   "execution_count": 95,
   "id": "d9e8b5b7",
   "metadata": {},
   "outputs": [],
   "source": [
    "driver.find_element('name', 'q').send_keys('vagas marketing')\n",
    "driver.get(\"https://www.linkedin.com\")"
   ]
  },
  {
   "cell_type": "markdown",
   "id": "51684160",
   "metadata": {},
   "source": [
    "###### Ao abrir o Linkedin, não irei logar, portanto seleciono button para vagas"
   ]
  },
  {
   "cell_type": "code",
   "execution_count": 96,
   "id": "a7b53362",
   "metadata": {},
   "outputs": [],
   "source": [
    "sleep(3)\n",
    "driver.find_elements(by=By.XPATH, value='/html/body/nav/ul/li[4]/a')[0].click()"
   ]
  },
  {
   "cell_type": "markdown",
   "id": "a25d09a5",
   "metadata": {},
   "source": [
    "###### Em seguida, limpo a label de localidade e a label de palavras-chaves para vagas, e insiro a que quero buscar"
   ]
  },
  {
   "cell_type": "code",
   "execution_count": 104,
   "id": "72d5e15b",
   "metadata": {},
   "outputs": [],
   "source": [
    "driver.find_element('name','keywords').clear()\n",
    "driver.find_element('name','keywords').send_keys('Marketing E Publicidade')\n",
    "driver.find_element('name','location').clear()\n",
    "driver.find_element('name','location').send_keys('Brasil')"
   ]
  },
  {
   "cell_type": "markdown",
   "id": "d1467ef4",
   "metadata": {},
   "source": [
    "###### Seleciono o localidade 1 das opções que aparece ao preencher a label"
   ]
  },
  {
   "cell_type": "code",
   "execution_count": 105,
   "id": "062801e0",
   "metadata": {},
   "outputs": [],
   "source": [
    "sleep(3)\n",
    "driver.find_elements(by=By.XPATH, value='//*[@id=\"location-1\"]')[0].click()"
   ]
  },
  {
   "cell_type": "markdown",
   "id": "7e333027",
   "metadata": {},
   "source": [
    "###### Aqui irei abrir os filtros para tipos de vaga, e selecionar o filtro Tempo integral e Estágio, por último seleciono o botão concluído"
   ]
  },
  {
   "cell_type": "code",
   "execution_count": 106,
   "id": "6c62b9a1",
   "metadata": {},
   "outputs": [],
   "source": [
    "sleep(3)\n",
    "driver.find_elements(by=By.XPATH, value='//*[@id=\"jserp-filters\"]/ul/li[4]/div/div/button')[0].click()"
   ]
  },
  {
   "cell_type": "code",
   "execution_count": 107,
   "id": "9900cd4c",
   "metadata": {},
   "outputs": [],
   "source": [
    "sleep(3)\n",
    "driver.find_elements(by=By.XPATH, value='//*[@id=\"jserp-filters\"]/ul/li[4]/div/div/div/div/div/div[1]/label')[0].click()"
   ]
  },
  {
   "cell_type": "code",
   "execution_count": 108,
   "id": "fe75aff8",
   "metadata": {},
   "outputs": [
    {
     "data": {
      "text/plain": [
       "'sleep(3)\\ndriver.find_elements(by=By.XPATH, value=\\'//*[@id=\"jserp-filters\"]/ul/li[4]/div/div/div/div/div/div[5]/label\\')[0].click()'"
      ]
     },
     "execution_count": 108,
     "metadata": {},
     "output_type": "execute_result"
    }
   ],
   "source": [
    "'''sleep(3)\n",
    "driver.find_elements(by=By.XPATH, value='//*[@id=\"jserp-filters\"]/ul/li[4]/div/div/div/div/div/div[5]/label')[0].click()'''"
   ]
  },
  {
   "cell_type": "code",
   "execution_count": 109,
   "id": "4b8b243d",
   "metadata": {},
   "outputs": [],
   "source": [
    "sleep(3)\n",
    "driver.find_elements(by=By.XPATH, value='//*[@id=\"jserp-filters\"]/ul/li[4]/div/div/div/button')[0].click()"
   ]
  },
  {
   "cell_type": "code",
   "execution_count": 110,
   "id": "93da70bb",
   "metadata": {},
   "outputs": [],
   "source": [
    "sleep(3)\n",
    "# fecho evento de iniciar sessão\n",
    "try:\n",
    "    evento_sessao = driver.find_elements(by=By.XPATH, value='/html/body/div[3]/button')[0]\n",
    "    # Se o elemento estiver presente, clica nele para fechar o evento\n",
    "    evento_sessao.click()\n",
    "except:\n",
    "    # Se o elemento não estiver presente, não faz nada\n",
    "    pass"
   ]
  },
  {
   "cell_type": "markdown",
   "id": "1d729c0a",
   "metadata": {},
   "source": [
    "###### Pegando link das vagas"
   ]
  },
  {
   "cell_type": "code",
   "execution_count": 111,
   "id": "a11ea820",
   "metadata": {},
   "outputs": [
    {
     "data": {
      "text/plain": [
       "'print(vagas_link)\\nprint(len(vagas_links))'"
      ]
     },
     "execution_count": 111,
     "metadata": {},
     "output_type": "execute_result"
    }
   ],
   "source": [
    "'''# Realizar o scrolling até o fim da página\n",
    "contador = 0\n",
    "altura_anterior = driver.execute_script(\"return window.pageYOffset;\")\n",
    "while contador < 2:\n",
    "    # Realizar o scrolling até o fim da página\n",
    "    actions = ActionChains(driver)\n",
    "    actions.send_keys(Keys.END).perform()\n",
    "    sleep(2)  # Aguardar um tempo para carregar mais vagas\n",
    "    \n",
    "    # Verificar se não há mais vagas para carregar (chegou ao fim da página)\n",
    "    try:\n",
    "        even_ver_mais = driver.find_elements(by=By.XPATH, value='//*[@id=\"main-content\"]/section[2]/button')[0]\n",
    "        #even_ver_mais.click()\n",
    "        driver.execute_script(\"arguments[0].click();\", even_ver_mais)\n",
    "        # Verificar se a altura da página foi alterada\n",
    "        altura_atual = driver.execute_script(\"return window.pageYOffset;\")\n",
    "        if altura_atual == altura_anterior:\n",
    "            # Incrementar o contador quando o botão não estiver mais disponível\n",
    "            contador += 1\n",
    "        else:\n",
    "            # Zerar o contador quando a página for expandida\n",
    "            contador = 0\n",
    "        altura_anterior = altura_atual\n",
    "    except NoSuchElementException:\n",
    "         # Incrementar o contador quando o botão não estiver mais disponível\n",
    "        contador += 1\n",
    "        continue'''\n",
    "\n",
    "vagas_links = driver.find_elements(By.XPATH, '/html/body/div[1]/div/main/section[2]/ul/li/div/a')\n",
    "vagas_links = [link.get_attribute('href') for link in vagas_links]\n",
    "    \n",
    "'''print(vagas_link)\n",
    "print(len(vagas_links))'''"
   ]
  },
  {
   "cell_type": "markdown",
   "id": "51b94fb1",
   "metadata": {},
   "source": [
    "###### Pegando titulos das vagas"
   ]
  },
  {
   "cell_type": "code",
   "execution_count": 112,
   "id": "a2fbb1a6",
   "metadata": {},
   "outputs": [
    {
     "data": {
      "text/plain": [
       "'print(vagas_title)\\nprint(len(vagas_title_texts))'"
      ]
     },
     "execution_count": 112,
     "metadata": {},
     "output_type": "execute_result"
    }
   ],
   "source": [
    "vagas_title = driver.find_elements(by=By.CLASS_NAME, value='base-search-card__title')\n",
    "vagas_title=[titulo.text for titulo in vagas_title]\n",
    "\n",
    "'''print(vagas_title)\n",
    "print(len(vagas_title_texts))'''"
   ]
  },
  {
   "cell_type": "markdown",
   "id": "ccf5261c",
   "metadata": {},
   "source": [
    "###### Pegando nome das empresas das vagas"
   ]
  },
  {
   "cell_type": "code",
   "execution_count": 113,
   "id": "e020f8ab",
   "metadata": {},
   "outputs": [
    {
     "data": {
      "text/plain": [
       "'print(vagas_empresa)\\nprint()\\nprint(len(vagas_empresa))'"
      ]
     },
     "execution_count": 113,
     "metadata": {},
     "output_type": "execute_result"
    }
   ],
   "source": [
    "vagas_empresa = driver.find_elements(by=By.CLASS_NAME, value='hidden-nested-link')\n",
    "vagas_empresa = [empresa.text for empresa in vagas_empresa]\n",
    "\n",
    "'''print(vagas_empresa)\n",
    "print()\n",
    "print(len(vagas_empresa))'''"
   ]
  },
  {
   "cell_type": "markdown",
   "id": "e71edebe",
   "metadata": {},
   "source": [
    "###### Pegando link das empresas das vagas e os dados de tipo e nivel de experiência"
   ]
  },
  {
   "cell_type": "code",
   "execution_count": 90,
   "id": "49065e12",
   "metadata": {},
   "outputs": [],
   "source": [
    "def rasp(tipo, nivel, candidaturas, URL):\n",
    "    vagas_nivel = driver.find_elements(by=By.XPATH, value='//*[@id=\"main-content\"]/section[1]/div/div/section[1]/div/ul/li[1]/span')\n",
    "    for i in vagas_nivel:\n",
    "        nivel.append(i.text)\n",
    "    \n",
    "    vagas_tipo = driver.find_elements(by=By.XPATH, value='//*[@id=\"main-content\"]/section[1]/div/div/section[1]/div/ul/li[2]/span')\n",
    "    for i in vagas_tipo:\n",
    "        tipo.append(i.text)\n",
    "    \n",
    "    try:\n",
    "        vagas_candidaturas = driver.find_elements(by=By.XPATH, value='//*[@id=\"main-content\"]/section[1]/div/section[2]/div/div[1]/div/h4/div[2]/figure/figcaption')\n",
    "        if vagas_candidaturas[0].text == \"Seja um dos 25 primeiros a se candidatar\":\n",
    "            candidaturas.append(\"Menos de 25 candidaturas\")\n",
    "        else:\n",
    "            candidaturas.append(vagas_candidaturas[0].text)\n",
    "    except:\n",
    "        vagas_candidaturas = driver.find_elements(by=By.XPATH, value='//*[@id=\"main-content\"]/section[1]/div/section[2]/div/div[1]/div/h4/div[2]/span[2]')\n",
    "        candidaturas.append(vagas_candidaturas[0].text)\n",
    "        \n",
    "    vagas_URL = driver.find_elements(by=By.XPATH, value='//*[@id=\"main-content\"]/section[1]/div/section[2]/div/div[1]/div/div/button[1]')\n",
    "    for i in vagas_URL:\n",
    "        URL.append(i.get_attribute('href'))\n",
    "   "
   ]
  },
  {
   "cell_type": "code",
   "execution_count": 91,
   "id": "8789e823",
   "metadata": {},
   "outputs": [],
   "source": [
    "def rasp_info_emp(seguidores_emp, local_emp, qtd_funcionarios):\n",
    "    #tratar erro de quando não encontrar informações de texto sobre seguidores no linkedin\n",
    "    try:\n",
    "        elements = driver.find_elements(by=By.XPATH, value='//*[@id=\"main-content\"]/section[1]/section/div/div[2]/div[1]/h3')\n",
    "        if len(elements) > 0:\n",
    "            info_aux = re.split(padrao, elements[0].text, maxsplit = 1)\n",
    "            seguidores_emp.append(info_aux[1]+info_aux[2])\n",
    "        else:\n",
    "            seguidores_emp.append(\"Não informado\")\n",
    "\n",
    "    except NoSuchElementException:\n",
    "        seguidores_emp.append(\"Não informado\")\n",
    "\n",
    "\n",
    "    element_loc = driver.find_elements(by=By.XPATH, value='//*[@id=\"address-0\"]')\n",
    "    local_emp.append(element_loc[0].text)\n",
    "    \n",
    "\n",
    "    element_funcionario = driver.find_elements(by=By.XPATH, value='//*[@id=\"main-content\"]/section[1]/div/section[1]/div/dl/div[3]/dd')\n",
    "    qtd_funcionarios.append(element_funcionario[0].text)"
   ]
  },
  {
   "cell_type": "code",
   "execution_count": 92,
   "id": "dae1a702",
   "metadata": {},
   "outputs": [
    {
     "ename": "IndexError",
     "evalue": "list index out of range",
     "output_type": "error",
     "traceback": [
      "\u001b[1;31m---------------------------------------------------------------------------\u001b[0m",
      "\u001b[1;31mIndexError\u001b[0m                                Traceback (most recent call last)",
      "\u001b[1;32m~\\AppData\\Local\\Temp\\ipykernel_18584\\2603741042.py\u001b[0m in \u001b[0;36m<module>\u001b[1;34m\u001b[0m\n\u001b[0;32m     48\u001b[0m         \u001b[1;32mpass\u001b[0m\u001b[1;33m\u001b[0m\u001b[1;33m\u001b[0m\u001b[0m\n\u001b[0;32m     49\u001b[0m \u001b[1;33m\u001b[0m\u001b[0m\n\u001b[1;32m---> 50\u001b[1;33m     \u001b[0mrasp_info_emp\u001b[0m\u001b[1;33m(\u001b[0m\u001b[0mseguidores_empresa\u001b[0m\u001b[1;33m,\u001b[0m \u001b[0mlocal_empresa\u001b[0m\u001b[1;33m,\u001b[0m \u001b[0mqtd_func\u001b[0m\u001b[1;33m)\u001b[0m\u001b[1;33m\u001b[0m\u001b[1;33m\u001b[0m\u001b[0m\n\u001b[0m\u001b[0;32m     51\u001b[0m \u001b[1;33m\u001b[0m\u001b[0m\n\u001b[0;32m     52\u001b[0m     \u001b[0mj\u001b[0m \u001b[1;33m=\u001b[0m \u001b[0mj\u001b[0m \u001b[1;33m+\u001b[0m \u001b[1;36m1\u001b[0m\u001b[1;33m\u001b[0m\u001b[1;33m\u001b[0m\u001b[0m\n",
      "\u001b[1;32m~\\AppData\\Local\\Temp\\ipykernel_18584\\1886252679.py\u001b[0m in \u001b[0;36mrasp_info_emp\u001b[1;34m(seguidores_emp, local_emp, qtd_funcionarios)\u001b[0m\n\u001b[0;32m     14\u001b[0m \u001b[1;33m\u001b[0m\u001b[0m\n\u001b[0;32m     15\u001b[0m     \u001b[0melement_loc\u001b[0m \u001b[1;33m=\u001b[0m \u001b[0mdriver\u001b[0m\u001b[1;33m.\u001b[0m\u001b[0mfind_elements\u001b[0m\u001b[1;33m(\u001b[0m\u001b[0mby\u001b[0m\u001b[1;33m=\u001b[0m\u001b[0mBy\u001b[0m\u001b[1;33m.\u001b[0m\u001b[0mXPATH\u001b[0m\u001b[1;33m,\u001b[0m \u001b[0mvalue\u001b[0m\u001b[1;33m=\u001b[0m\u001b[1;34m'//*[@id=\"address-0\"]'\u001b[0m\u001b[1;33m)\u001b[0m\u001b[1;33m\u001b[0m\u001b[1;33m\u001b[0m\u001b[0m\n\u001b[1;32m---> 16\u001b[1;33m     \u001b[0mlocal_emp\u001b[0m\u001b[1;33m.\u001b[0m\u001b[0mappend\u001b[0m\u001b[1;33m(\u001b[0m\u001b[0melement_loc\u001b[0m\u001b[1;33m[\u001b[0m\u001b[1;36m0\u001b[0m\u001b[1;33m]\u001b[0m\u001b[1;33m.\u001b[0m\u001b[0mtext\u001b[0m\u001b[1;33m)\u001b[0m\u001b[1;33m\u001b[0m\u001b[1;33m\u001b[0m\u001b[0m\n\u001b[0m\u001b[0;32m     17\u001b[0m \u001b[1;33m\u001b[0m\u001b[0m\n\u001b[0;32m     18\u001b[0m \u001b[1;33m\u001b[0m\u001b[0m\n",
      "\u001b[1;31mIndexError\u001b[0m: list index out of range"
     ]
    }
   ],
   "source": [
    "vagas_tipo = []\n",
    "vagas_nivel = []\n",
    "num_candidaturas = []\n",
    "URL_candidatura = []\n",
    "links_sites_emp = []\n",
    "horario_Scraping = []\n",
    "\n",
    "seguidores_empresa, local_empresa, qtd_func = [], [], []\n",
    "#para separar a string quando encontrar o primeiro digito\n",
    "padrao = r\"(\\d)\" #significa um digito\n",
    "\n",
    "j = 0\n",
    "for i in vagas_links:\n",
    "    agora = datetime.datetime.now()\n",
    "    formatado = agora.strftime(\"%d/%m/%Y %H:%M\")\n",
    "    #print(formatado)\n",
    "    horario_Scraping.append(formatado)\n",
    "    sleep(2)\n",
    "    driver.get(i)\n",
    "    \n",
    "    #verificar se o url aberto foi o certo\n",
    "    while driver.current_url != i:\n",
    "        driver.get(i)\n",
    "        #print(j,driver.current_url)\n",
    "    \n",
    "    rasp(vagas_nivel, vagas_tipo, num_candidaturas, URL_candidatura)\n",
    "    \n",
    "    site_empresa = driver.find_elements(by=By.XPATH, value='//*[@id=\"main-content\"]/section[1]/div/section[2]/div/div[1]/div/h4/div[1]/span[1]/a')\n",
    "    for k in site_empresa:\n",
    "        links_sites_emp.append(k.get_attribute('href'))\n",
    "    \n",
    "    #Abrir site da empresa\n",
    "    driver.get(links_sites_emp[j])\n",
    "\n",
    "    #verificar se o url aberto foi o certo\n",
    "    while driver.current_url != links_sites_emp[j]:\n",
    "        driver.get(links_sites_emp[j])\n",
    "\n",
    "    sleep(3)\n",
    "\n",
    "    # fecho evento de logar se estiver presente\n",
    "    try:\n",
    "        evento_entrar = driver.find_elements(by=By.XPATH, value='//*[@id=\"organization_guest_contextual-sign-in\"]/div/section/button')[0]\n",
    "        # Se o elemento estiver presente, clica nele para fechar o evento\n",
    "        evento_entrar.click()\n",
    "    except:\n",
    "        # Se o elemento não estiver presente, não faz nada\n",
    "        pass\n",
    "    \n",
    "    rasp_info_emp(seguidores_empresa, local_empresa, qtd_func)\n",
    "    \n",
    "    j = j + 1\n",
    "    \n",
    "print(horario_Scraping)\n",
    "print(len(horario_Scraping))"
   ]
  },
  {
   "cell_type": "code",
   "execution_count": null,
   "id": "e3c804ce",
   "metadata": {},
   "outputs": [],
   "source": [
    "'''seguidores_empresa, local_empresa, qtd_func = [], [], []\n",
    "#para separar a string quando encontrar o primeiro digito\n",
    "padrao = r\"(\\d)\" #significa um digito\n",
    "\n",
    "for i in links_sites_emp:\n",
    "    driver.get(i)\n",
    "    print(driver.current_url)\n",
    "\n",
    "    #verificar se o url aberto foi o certo\n",
    "    while driver.current_url != i:\n",
    "        driver.get(i)\n",
    "        #print(j,driver.current_url)\n",
    "\n",
    "    sleep(3)\n",
    "\n",
    "    # fecho evento de logar se estiver presente\n",
    "    try:\n",
    "        evento_entrar = driver.find_elements(by=By.XPATH, value='//*[@id=\"organization_guest_contextual-sign-in\"]/div/section/button')[0]\n",
    "        # Se o elemento estiver presente, clica nele para fechar o evento\n",
    "        evento_entrar.click()\n",
    "    except:\n",
    "        # Se o elemento não estiver presente, não faz nada\n",
    "        pass\n",
    "    \n",
    "    rasp_info_emp(seguidores_empresa, local_empresa, qtd_func)\n",
    "'''\n",
    "\n",
    "'''print(seguidores_empresa)\n",
    "print(local_empresa)\n",
    "print(qtd_func)\n",
    "print(len(seguidores_empresa), len(local_empresa), len(qtd_func))'''"
   ]
  },
  {
   "cell_type": "code",
   "execution_count": null,
   "id": "efaf2954",
   "metadata": {},
   "outputs": [],
   "source": [
    "print(vagas_links)\n",
    "print(vagas_title)\n",
    "print(vagas_empresa)\n",
    "print(vagas_tipo)\n",
    "print(vagas_nivel)\n",
    "\n",
    "print(num_candidaturas)\n",
    "print(URL_candidatura)\n",
    "\n",
    "print(links_sites_emp)\n",
    "print(horario_Scraping)\n",
    "\n",
    "print(seguidores_empresa)\n",
    "print(local_empresa)\n",
    "\n",
    "print(qtd_func)"
   ]
  },
  {
   "cell_type": "code",
   "execution_count": null,
   "id": "82f9584f",
   "metadata": {},
   "outputs": [],
   "source": []
  }
 ],
 "metadata": {
  "kernelspec": {
   "display_name": "Python 3 (ipykernel)",
   "language": "python",
   "name": "python3"
  },
  "language_info": {
   "codemirror_mode": {
    "name": "ipython",
    "version": 3
   },
   "file_extension": ".py",
   "mimetype": "text/x-python",
   "name": "python",
   "nbconvert_exporter": "python",
   "pygments_lexer": "ipython3",
   "version": "3.9.13"
  }
 },
 "nbformat": 4,
 "nbformat_minor": 5
}

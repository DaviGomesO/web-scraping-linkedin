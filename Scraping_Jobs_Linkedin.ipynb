{
 "cells": [
  {
   "cell_type": "markdown",
   "id": "3cc79cfd",
   "metadata": {},
   "source": [
    "#### Aqui iniciei com o import do selenium\n",
    "###### Mas antes foi preciso fazer a instalação das bibliotecas:\n",
    "- pip install selenium\n",
    "- pip install scrapy\n",
    "- pip install ipython"
   ]
  },
  {
   "cell_type": "code",
   "execution_count": null,
   "id": "ff8913bb",
   "metadata": {},
   "outputs": [],
   "source": [
    "from selenium import webdriver\n",
    "from selenium.webdriver.chrome.options import Options\n",
    "from selenium.webdriver.chrome.service import Service\n",
    "from selenium.common.exceptions import NoSuchElementException\n",
    "from webdriver_manager.chrome import ChromeDriverManager\n",
    "from selenium.webdriver.common.by import By\n",
    "from selenium.webdriver.common.keys import Keys\n",
    "from selenium.webdriver.common.action_chains import ActionChains\n",
    "from time import sleep\n",
    "import re"
   ]
  },
  {
   "cell_type": "markdown",
   "id": "772efd9b",
   "metadata": {},
   "source": [
    "##### Fiz a instalação do chromedriver e em seguida abro a página do Google"
   ]
  },
  {
   "cell_type": "code",
   "execution_count": null,
   "id": "586566c3",
   "metadata": {},
   "outputs": [],
   "source": [
    "'''# arquivo csv\n",
    "writer = csv.writer(open('Scraping - Francisco Davi Gomes de Oliveira.csv', 'w', encoding='utf-8'))\n",
    "writer.writerow(['URL da vaga no linkedin', 'Nome da vaga', \n",
    "                 'Nome da empresa contratante','URL da empresa contratante','Modelo de contratação',\n",
    "                'Tipo de contratação','Nível de experiência','Número de candidaturas para vaga','Data da postagem da vaga',\n",
    "                 'Horário do scraping', 'Número de funcionários da empresa', 'Número de seguidores da empresa',\n",
    "                'Local sede da empresa','URL da candidatura'])'''"
   ]
  },
  {
   "cell_type": "code",
   "execution_count": null,
   "id": "42421884",
   "metadata": {},
   "outputs": [],
   "source": [
    "\n",
    "# Configurar o driver do navegador (exemplo usando o Chrome)\n",
    "options = Options()\n",
    "options.add_argument(\"start-maximized\")\n",
    "driver = webdriver.Chrome(service=Service(ChromeDriverManager().install()), options=options)\n",
    "driver.get(\"https://www.google.com\")"
   ]
  },
  {
   "cell_type": "markdown",
   "id": "aef12837",
   "metadata": {},
   "source": [
    "##### Em seguida, insiro a palavra chave para busca, e abro o Linkedin"
   ]
  },
  {
   "cell_type": "code",
   "execution_count": null,
   "id": "d9e8b5b7",
   "metadata": {},
   "outputs": [],
   "source": [
    "driver.find_element('name', 'q').send_keys('vagas marketing')\n",
    "driver.get(\"https://www.linkedin.com\")"
   ]
  },
  {
   "cell_type": "markdown",
   "id": "51684160",
   "metadata": {},
   "source": [
    "###### Ao abrir o Linkedin, não irei logar, portanto seleciono button para vagas"
   ]
  },
  {
   "cell_type": "code",
   "execution_count": null,
   "id": "a7b53362",
   "metadata": {},
   "outputs": [],
   "source": [
    "sleep(3)\n",
    "driver.find_elements(by=By.XPATH, value='/html/body/nav/ul/li[4]/a')[0].click()"
   ]
  },
  {
   "cell_type": "markdown",
   "id": "a25d09a5",
   "metadata": {},
   "source": [
    "###### Em seguida, limpo a label de localidade e a label de palavras-chaves para vagas, e insiro a que quero buscar"
   ]
  },
  {
   "cell_type": "code",
   "execution_count": null,
   "id": "72d5e15b",
   "metadata": {},
   "outputs": [],
   "source": [
    "driver.find_element('name','keywords').clear()\n",
    "driver.find_element('name','keywords').send_keys('Marketing E Publicidade')\n",
    "driver.find_element('name','location').clear()\n",
    "driver.find_element('name','location').send_keys('Brasil')"
   ]
  },
  {
   "cell_type": "markdown",
   "id": "d1467ef4",
   "metadata": {},
   "source": [
    "###### Seleciono o localidade 1 das opções que aparece ao preencher a label"
   ]
  },
  {
   "cell_type": "code",
   "execution_count": null,
   "id": "062801e0",
   "metadata": {},
   "outputs": [],
   "source": [
    "sleep(3)\n",
    "driver.find_elements(by=By.XPATH, value='//*[@id=\"location-1\"]')[0].click()"
   ]
  },
  {
   "cell_type": "markdown",
   "id": "7e333027",
   "metadata": {},
   "source": [
    "###### Aqui irei abrir os filtros para tipos de vaga, e selecionar o filtro Tempo integral e Estágio, por último seleciono o botão concluído"
   ]
  },
  {
   "cell_type": "code",
   "execution_count": null,
   "id": "6c62b9a1",
   "metadata": {},
   "outputs": [],
   "source": [
    "sleep(3)\n",
    "driver.find_elements(by=By.XPATH, value='//*[@id=\"jserp-filters\"]/ul/li[4]/div/div/button')[0].click()"
   ]
  },
  {
   "cell_type": "code",
   "execution_count": null,
   "id": "9900cd4c",
   "metadata": {},
   "outputs": [],
   "source": [
    "sleep(3)\n",
    "driver.find_elements(by=By.XPATH, value='//*[@id=\"jserp-filters\"]/ul/li[4]/div/div/div/div/div/div[1]/label')[0].click()"
   ]
  },
  {
   "cell_type": "code",
   "execution_count": null,
   "id": "fe75aff8",
   "metadata": {},
   "outputs": [],
   "source": [
    "'''sleep(3)\n",
    "driver.find_elements(by=By.XPATH, value='//*[@id=\"jserp-filters\"]/ul/li[4]/div/div/div/div/div/div[5]/label')[0].click()'''"
   ]
  },
  {
   "cell_type": "code",
   "execution_count": null,
   "id": "4b8b243d",
   "metadata": {},
   "outputs": [],
   "source": [
    "sleep(3)\n",
    "driver.find_elements(by=By.XPATH, value='//*[@id=\"jserp-filters\"]/ul/li[4]/div/div/div/button')[0].click()"
   ]
  },
  {
   "cell_type": "code",
   "execution_count": null,
   "id": "93da70bb",
   "metadata": {},
   "outputs": [],
   "source": [
    "# fecho evento de iniciar sessão\n",
    "try:\n",
    "    evento_sessao = driver.find_elements(by=By.XPATH, value='/html/body/div[3]/button')[0]\n",
    "    # Se o elemento estiver presente, clica nele para fechar o evento\n",
    "    evento_sessao.click()\n",
    "except:\n",
    "    # Se o elemento não estiver presente, não faz nada\n",
    "    pass"
   ]
  },
  {
   "cell_type": "markdown",
   "id": "1d729c0a",
   "metadata": {},
   "source": [
    "###### Pegando link das vagas"
   ]
  },
  {
   "cell_type": "code",
   "execution_count": null,
   "id": "a11ea820",
   "metadata": {},
   "outputs": [],
   "source": [
    "'''# Realizar o scrolling até o fim da página\n",
    "contador = 0\n",
    "altura_anterior = driver.execute_script(\"return window.pageYOffset;\")\n",
    "while contador < 2:\n",
    "    # Realizar o scrolling até o fim da página\n",
    "    actions = ActionChains(driver)\n",
    "    actions.send_keys(Keys.END).perform()\n",
    "    sleep(2)  # Aguardar um tempo para carregar mais vagas\n",
    "    \n",
    "    # Verificar se não há mais vagas para carregar (chegou ao fim da página)\n",
    "    try:\n",
    "        even_ver_mais = driver.find_elements(by=By.XPATH, value='//*[@id=\"main-content\"]/section[2]/button')[0]\n",
    "        #even_ver_mais.click()\n",
    "        driver.execute_script(\"arguments[0].click();\", even_ver_mais)\n",
    "        # Verificar se a altura da página foi alterada\n",
    "        altura_atual = driver.execute_script(\"return window.pageYOffset;\")\n",
    "        if altura_atual == altura_anterior:\n",
    "            # Incrementar o contador quando o botão não estiver mais disponível\n",
    "            contador += 1\n",
    "        else:\n",
    "            # Zerar o contador quando a página for expandida\n",
    "            contador = 0\n",
    "        altura_anterior = altura_atual\n",
    "    except NoSuchElementException:\n",
    "         # Incrementar o contador quando o botão não estiver mais disponível\n",
    "        contador += 1\n",
    "        continue'''\n",
    "\n",
    "vagas_links = driver.find_elements(By.XPATH, '/html/body/div[1]/div/main/section[2]/ul/li/div/a')\n",
    "vagas_links = [link.get_attribute('href') for link in vagas_links]\n",
    "    \n",
    "'''print(vagas_link)\n",
    "print(len(vagas_links))'''"
   ]
  },
  {
   "cell_type": "markdown",
   "id": "51b94fb1",
   "metadata": {},
   "source": [
    "###### Pegando titulos das vagas"
   ]
  },
  {
   "cell_type": "code",
   "execution_count": null,
   "id": "a2fbb1a6",
   "metadata": {},
   "outputs": [],
   "source": [
    "vagas_title = driver.find_elements(by=By.CLASS_NAME, value='base-search-card__title')\n",
    "vagas_title=[titulo.text for titulo in vagas_title]\n",
    "\n",
    "'''print(vagas_title)\n",
    "print(len(vagas_title_texts))'''"
   ]
  },
  {
   "cell_type": "markdown",
   "id": "ccf5261c",
   "metadata": {},
   "source": [
    "###### Pegando nome das empresas das vagas"
   ]
  },
  {
   "cell_type": "code",
   "execution_count": null,
   "id": "e020f8ab",
   "metadata": {},
   "outputs": [],
   "source": [
    "vagas_empresa = driver.find_elements(by=By.CLASS_NAME, value='hidden-nested-link')\n",
    "vagas_empresa = [empresa.text for empresa in vagas_empresa]\n",
    "\n",
    "'''print(vagas_empresa)\n",
    "print()\n",
    "print(len(vagas_empresa))'''"
   ]
  },
  {
   "cell_type": "markdown",
   "id": "e71edebe",
   "metadata": {},
   "source": [
    "###### Pegando link das empresas das vagas e os dados de tipo e nivel de experiência"
   ]
  },
  {
   "cell_type": "code",
   "execution_count": null,
   "id": "49065e12",
   "metadata": {},
   "outputs": [],
   "source": [
    "def rasp(tipo, nivel):\n",
    "    vagas_nivel = driver.find_elements(by=By.XPATH, value='//*[@id=\"main-content\"]/section[1]/div/div/section[1]/div/ul/li[1]/span')\n",
    "    for i in vagas_nivel:\n",
    "        nivel.append(i.text)\n",
    "    \n",
    "    vagas_tipo = driver.find_elements(by=By.XPATH, value='//*[@id=\"main-content\"]/section[1]/div/div/section[1]/div/ul/li[2]/span')\n",
    "    for i in vagas_tipo:\n",
    "        tipo.append(i.text)"
   ]
  },
  {
   "cell_type": "code",
   "execution_count": null,
   "id": "dae1a702",
   "metadata": {},
   "outputs": [],
   "source": [
    "vagas_tipo = []\n",
    "vagas_nivel = []\n",
    "\n",
    "links_sites_emp = []\n",
    "\n",
    "j = 1\n",
    "for i in vagas_link:\n",
    "    driver.get(i)\n",
    "    \n",
    "    #verificar se o url aberto foi o certo\n",
    "    while driver.current_url != i:\n",
    "        driver.get(i)\n",
    "        #print(j,driver.current_url)\n",
    "    \n",
    "    rasp(vagas_nivel, vagas_tipo)\n",
    "    \n",
    "    site_empresa = driver.find_elements(by=By.XPATH, value='//*[@id=\"main-content\"]/section[1]/div/section[2]/div/div[1]/div/h4/div[1]/span[1]/a')\n",
    "    for k in site_empresa:\n",
    "        print(k.get_attribute('href'))\n",
    "        links_sites_emp.append(k.get_attribute('href'))\n",
    "    j = j + 1\n",
    "    "
   ]
  },
  {
   "cell_type": "code",
   "execution_count": null,
   "id": "8789e823",
   "metadata": {},
   "outputs": [],
   "source": [
    "def rasp_info_emp(seguidores_emp, local_emp, qtd_funcionarios):\n",
    "    #tratar erro de quando não encontrar informações de texto sobre seguidores no linkedin\n",
    "    try:\n",
    "        elements = driver.find_elements(by=By.XPATH, value='//*[@id=\"main-content\"]/section[1]/section/div/div[2]/div[1]/h3')\n",
    "        if len(elements) > 0:\n",
    "            info_aux = re.split(padrao, elements[0].text, maxsplit = 1)\n",
    "            seguidores_emp.append(info_aux[1]+info_aux[2])\n",
    "        else:\n",
    "            seguidores_emp.append(\"Não informado\")\n",
    "\n",
    "    except NoSuchElementException:\n",
    "        seguidores_emp.append(\"Não informado\")\n",
    "\n",
    "\n",
    "    element_loc = driver.find_elements(by=By.XPATH, value='//*[@id=\"address-0\"]')\n",
    "    local_emp.append(element_loc[0].text)\n",
    "    \n",
    "\n",
    "    element_funcionario = driver.find_elements(by=By.XPATH, value='//*[@id=\"main-content\"]/section[1]/div/section[1]/div/dl/div[3]/dd')\n",
    "    qtd_funcionarios.append(element_funcionario[0].text)"
   ]
  },
  {
   "cell_type": "code",
   "execution_count": null,
   "id": "e3c804ce",
   "metadata": {},
   "outputs": [],
   "source": [
    "seguidores_empresa, local_empresa, qtd_func = [], [], []\n",
    "#para separar a string quando encontrar o primeiro digito\n",
    "padrao = r\"(\\d)\" #significa um digito\n",
    "\n",
    "for i in links_sites_emp:\n",
    "    driver.get(i)\n",
    "    print(driver.current_url)\n",
    "\n",
    "    #verificar se o url aberto foi o certo\n",
    "    while driver.current_url != i:\n",
    "        driver.get(i)\n",
    "        #print(j,driver.current_url)\n",
    "\n",
    "    sleep(3)\n",
    "\n",
    "    # fecho evento de logar se estiver presente\n",
    "    try:\n",
    "        evento_entrar = driver.find_elements(by=By.XPATH, value='//*[@id=\"organization_guest_contextual-sign-in\"]/div/section/button')[0]\n",
    "        # Se o elemento estiver presente, clica nele para fechar o evento\n",
    "        evento_entrar.click()\n",
    "    except:\n",
    "        # Se o elemento não estiver presente, não faz nada\n",
    "        pass\n",
    "    \n",
    "    rasp_info_emp(seguidores_empresa, local_empresa, qtd_func)\n",
    "\n",
    "\n",
    "'''print(seguidores_empresa)\n",
    "print(local_empresa)\n",
    "print(qtd_func)\n",
    "print(len(seguidores_empresa), len(local_empresa), len(qtd_func))'''"
   ]
  },
  {
   "cell_type": "code",
   "execution_count": null,
   "id": "efaf2954",
   "metadata": {},
   "outputs": [],
   "source": []
  }
 ],
 "metadata": {
  "kernelspec": {
   "display_name": "Python 3 (ipykernel)",
   "language": "python",
   "name": "python3"
  },
  "language_info": {
   "codemirror_mode": {
    "name": "ipython",
    "version": 3
   },
   "file_extension": ".py",
   "mimetype": "text/x-python",
   "name": "python",
   "nbconvert_exporter": "python",
   "pygments_lexer": "ipython3",
   "version": "3.9.13"
  }
 },
 "nbformat": 4,
 "nbformat_minor": 5
}

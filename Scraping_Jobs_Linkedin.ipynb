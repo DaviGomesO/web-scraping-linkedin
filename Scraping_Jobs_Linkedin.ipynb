{
 "cells": [
  {
   "cell_type": "markdown",
   "id": "3cc79cfd",
   "metadata": {},
   "source": [
    "#### Aqui iniciei com o import do selenium\n",
    "###### Mas antes foi preciso fazer a instalação das bibliotecas:\n",
    "- pip install selenium\n",
    "- pip install scrapy\n",
    "- pip install ipython"
   ]
  },
  {
   "cell_type": "code",
   "execution_count": 1,
   "id": "ff8913bb",
   "metadata": {},
   "outputs": [],
   "source": [
    "from selenium import webdriver\n",
    "from selenium.webdriver.chrome.options import Options\n",
    "from selenium.webdriver.chrome.service import Service\n",
    "from webdriver_manager.chrome import ChromeDriverManager\n",
    "from selenium.webdriver.common.by import By"
   ]
  },
  {
   "cell_type": "markdown",
   "id": "772efd9b",
   "metadata": {},
   "source": [
    "##### Fiz a instalação do chromedriver e em seguida abro a página do Google"
   ]
  },
  {
   "cell_type": "code",
   "execution_count": 2,
   "id": "42421884",
   "metadata": {},
   "outputs": [
    {
     "name": "stderr",
     "output_type": "stream",
     "text": [
      "[WDM] - Downloading: 100%|████████████████████████████████████████████████████████| 6.79M/6.79M [00:01<00:00, 4.16MB/s]\n"
     ]
    }
   ],
   "source": [
    "options = Options()\n",
    "options.add_argument(\"start-maximized\")\n",
    "driver = webdriver.Chrome(service=Service(ChromeDriverManager().install()), options=options)\n",
    "driver.get(\"https://www.google.com\")"
   ]
  },
  {
   "cell_type": "markdown",
   "id": "aef12837",
   "metadata": {},
   "source": [
    "##### Em seguida, insiro a palavra chave para busca, e abro o Linkedin"
   ]
  },
  {
   "cell_type": "code",
   "execution_count": 3,
   "id": "d9e8b5b7",
   "metadata": {},
   "outputs": [],
   "source": [
    "driver.find_element('name', 'q').send_keys('vagas marketing')\n",
    "driver.get(\"https://www.linkedin.com\")"
   ]
  },
  {
   "cell_type": "markdown",
   "id": "51684160",
   "metadata": {},
   "source": [
    "###### Ao abrir o Linkedin, não irei logar, portanto seleciono button para vagas"
   ]
  },
  {
   "cell_type": "code",
   "execution_count": 4,
   "id": "a7b53362",
   "metadata": {},
   "outputs": [],
   "source": [
    "driver.find_elements(by=By.XPATH, value='/html/body/nav/ul/li[4]/a')[0].click()"
   ]
  },
  {
   "cell_type": "markdown",
   "id": "a25d09a5",
   "metadata": {},
   "source": [
    "###### Em seguida, limpo a label de localidade e a label de palavras-chaves para vagas, e insiro a que quero buscar"
   ]
  },
  {
   "cell_type": "code",
   "execution_count": 5,
   "id": "72d5e15b",
   "metadata": {},
   "outputs": [],
   "source": [
    "driver.find_element('name','keywords').clear()\n",
    "driver.find_element('name','keywords').send_keys('Marketing E Publicidade')\n",
    "driver.find_element('name','location').clear()\n",
    "driver.find_element('name','location').send_keys('Brasil')"
   ]
  },
  {
   "cell_type": "markdown",
   "id": "d1467ef4",
   "metadata": {},
   "source": [
    "###### Seleciono o localidade 1 das opções que aparece ao preencher a label"
   ]
  },
  {
   "cell_type": "code",
   "execution_count": 6,
   "id": "062801e0",
   "metadata": {},
   "outputs": [],
   "source": [
    "driver.find_elements(by=By.XPATH, value='//*[@id=\"location-1\"]')[0].click()"
   ]
  },
  {
   "cell_type": "markdown",
   "id": "7e333027",
   "metadata": {},
   "source": [
    "###### Aqui irei abrir os filtros para tipos de vaga, e selecionar o filtro Tempo integral e Estágio, por último seleciono o botão concluído"
   ]
  },
  {
   "cell_type": "code",
   "execution_count": 7,
   "id": "6c62b9a1",
   "metadata": {},
   "outputs": [],
   "source": [
    "driver.find_elements(by=By.XPATH, value='//*[@id=\"jserp-filters\"]/ul/li[4]/div/div/button')[0].click()"
   ]
  },
  {
   "cell_type": "code",
   "execution_count": 8,
   "id": "9900cd4c",
   "metadata": {},
   "outputs": [],
   "source": [
    "driver.find_elements(by=By.XPATH, value='//*[@id=\"jserp-filters\"]/ul/li[4]/div/div/div/div/div/div[1]/label')[0].click()"
   ]
  },
  {
   "cell_type": "code",
   "execution_count": 9,
   "id": "fe75aff8",
   "metadata": {},
   "outputs": [],
   "source": [
    "driver.find_elements(by=By.XPATH, value='//*[@id=\"jserp-filters\"]/ul/li[4]/div/div/div/div/div/div[5]/label')[0].click()"
   ]
  },
  {
   "cell_type": "code",
   "execution_count": 10,
   "id": "4b8b243d",
   "metadata": {},
   "outputs": [],
   "source": [
    "driver.find_elements(by=By.XPATH, value='//*[@id=\"jserp-filters\"]/ul/li[4]/div/div/div/button')[0].click()"
   ]
  },
  {
   "cell_type": "markdown",
   "id": "1d729c0a",
   "metadata": {},
   "source": [
    "###### Pegando link das vagas"
   ]
  },
  {
   "cell_type": "code",
   "execution_count": 11,
   "id": "a11ea820",
   "metadata": {},
   "outputs": [
    {
     "name": "stdout",
     "output_type": "stream",
     "text": [
      "['https://br.linkedin.com/jobs/view/superior-em-publicidade-e-propaganda-ou-marketing-at-instituto-formar-3555791539?refId=MlRVYTHxaBo8MSlsMYfkrg%3D%3D&trackingId=WnPYyyL44hccb5%2BLP4UFSg%3D%3D&position=1&pageNum=0&trk=public_jobs_jserp-result_search-card', 'https://br.linkedin.com/jobs/view/brand-designer-at-nelogica-3531121540?refId=MlRVYTHxaBo8MSlsMYfkrg%3D%3D&trackingId=0BKsP%2BkSHz59x9iPamcs3g%3D%3D&position=2&pageNum=0&trk=public_jobs_jserp-result_search-card', 'https://br.linkedin.com/jobs/view/assistente-de-marketing-e-publicidade-at-equipe-cine-3521828190?refId=MlRVYTHxaBo8MSlsMYfkrg%3D%3D&trackingId=Nw0O0Rw8Ml7UlQQJz18bog%3D%3D&position=3&pageNum=0&trk=public_jobs_jserp-result_search-card', 'https://br.linkedin.com/jobs/view/assistente-de-m%C3%ADdias-sociais-digitais-social-media-at-funda%C3%A7%C3%A3o-s%C3%A3o-paulo-3529648162?refId=MlRVYTHxaBo8MSlsMYfkrg%3D%3D&trackingId=ghToKTPerjg9qx1%2FLy9AYg%3D%3D&position=4&pageNum=0&trk=public_jobs_jserp-result_search-card', 'https://br.linkedin.com/jobs/view/assistente-de-publicidade-e-marketing-at-equipe-cine-3521822371?refId=MlRVYTHxaBo8MSlsMYfkrg%3D%3D&trackingId=uEhnYqTWDVePS8%2BXESp4Cg%3D%3D&position=5&pageNum=0&trk=public_jobs_jserp-result_search-card', 'https://br.linkedin.com/jobs/view/social-media-j%C3%BAnior-at-m3-social-mkt-digital-3508096057?refId=MlRVYTHxaBo8MSlsMYfkrg%3D%3D&trackingId=2NFeZidoTlsZAMWYyJg0Mw%3D%3D&position=6&pageNum=0&trk=public_jobs_jserp-result_search-card', 'https://br.linkedin.com/jobs/view/analista-de-publicidade-at-trabalhabrasil-3551070919?refId=MlRVYTHxaBo8MSlsMYfkrg%3D%3D&trackingId=fRRcUBJhUD6XTjg7DAH9gQ%3D%3D&position=7&pageNum=0&trk=public_jobs_jserp-result_search-card', 'https://br.linkedin.com/jobs/view/analista-de-social-media-jr-at-uol-edtech-3540346147?refId=MlRVYTHxaBo8MSlsMYfkrg%3D%3D&trackingId=zqWIBEb96sl8tlrcV2iaJA%3D%3D&position=8&pageNum=0&trk=public_jobs_jserp-result_search-card', 'https://br.linkedin.com/jobs/view/vendedor-de-publicidade-at-immakers-ads-3530963872?refId=MlRVYTHxaBo8MSlsMYfkrg%3D%3D&trackingId=J4LLV0ZC0%2FTnIDJk8as1vA%3D%3D&position=9&pageNum=0&trk=public_jobs_jserp-result_search-card', 'https://br.linkedin.com/jobs/view/social-media-at-viss-cabeleireiros-visagistas-3505202734?refId=MlRVYTHxaBo8MSlsMYfkrg%3D%3D&trackingId=pmXRiqKFeOvXkV9WhUmI1Q%3D%3D&position=10&pageNum=0&trk=public_jobs_jserp-result_search-card', 'https://br.linkedin.com/jobs/view/assistente-de-social-media-at-nestl%C3%A9-3537607798?refId=MlRVYTHxaBo8MSlsMYfkrg%3D%3D&trackingId=93fFwAno4TZASIvYlupJXw%3D%3D&position=11&pageNum=0&trk=public_jobs_jserp-result_search-card', 'https://br.linkedin.com/jobs/view/assistente-de-comunica%C3%A7%C3%A3o-e-marketing-at-rede-verbita-de-educa%C3%A7%C3%A3o-3543501935?refId=MlRVYTHxaBo8MSlsMYfkrg%3D%3D&trackingId=iR1Snt5V3pGhBsqodIc0Hw%3D%3D&position=12&pageNum=0&trk=public_jobs_jserp-result_search-card', 'https://br.linkedin.com/jobs/view/assistente-de-design-e-social-media-at-it-stone-semi-joias-3529302229?refId=MlRVYTHxaBo8MSlsMYfkrg%3D%3D&trackingId=0GOYoFnzX%2FYLBc0N5k7s%2Bw%3D%3D&position=13&pageNum=0&trk=public_jobs_jserp-result_search-card', 'https://br.linkedin.com/jobs/view/assistente-de-comunica%C3%A7%C3%A3o-e-marketing-florian%C3%B3polis-sc-at-transpocred-%E2%80%93-cooperativa-ailos-3515452370?refId=MlRVYTHxaBo8MSlsMYfkrg%3D%3D&trackingId=rhUcWkj%2Bt8R70WbL63Diqg%3D%3D&position=14&pageNum=0&trk=public_jobs_jserp-result_search-card', 'https://br.linkedin.com/jobs/view/assistente-de-marketing-at-fourmi-publicidade-3527540700?refId=MlRVYTHxaBo8MSlsMYfkrg%3D%3D&trackingId=bG3utPEEzWKpbr%2FB9KDDMg%3D%3D&position=15&pageNum=0&trk=public_jobs_jserp-result_search-card', 'https://br.linkedin.com/jobs/view/marketing-j%C3%BAnior-profissional-trabalho-remoto-at-bairesdev-3543218105?refId=MlRVYTHxaBo8MSlsMYfkrg%3D%3D&trackingId=ZyHSkYefpm4qWTrvNkw59A%3D%3D&position=16&pageNum=0&trk=public_jobs_jserp-result_search-card', 'https://br.linkedin.com/jobs/view/social-media-at-estrelabet-3522619739?refId=MlRVYTHxaBo8MSlsMYfkrg%3D%3D&trackingId=tjYtzLiBx3KuwVIxpVseCg%3D%3D&position=17&pageNum=0&trk=public_jobs_jserp-result_search-card', 'https://br.linkedin.com/jobs/view/social-media-freelance-at-akl-marketing-pet-3534118110?refId=MlRVYTHxaBo8MSlsMYfkrg%3D%3D&trackingId=XHgutHaBO95PSLmHL%2B55Aw%3D%3D&position=18&pageNum=0&trk=public_jobs_jserp-result_search-card', 'https://br.linkedin.com/jobs/view/assistente-de-comunica%C3%A7%C3%A3o-e-marketing-at-col%C3%A9gio-arnaldo-3550936358?refId=MlRVYTHxaBo8MSlsMYfkrg%3D%3D&trackingId=UW5Z3kEInDwkbBrGNy017A%3D%3D&position=19&pageNum=0&trk=public_jobs_jserp-result_search-card', 'https://br.linkedin.com/jobs/view/social-media-time-de-cria%C3%A7%C3%A3o-at-like-design-3515509685?refId=MlRVYTHxaBo8MSlsMYfkrg%3D%3D&trackingId=RZjifhAt7fvQBPXV2Cuiuw%3D%3D&position=20&pageNum=0&trk=public_jobs_jserp-result_search-card', 'https://br.linkedin.com/jobs/view/especialista-de-marketing-at-grupo-3cora%C3%A7%C3%B5es-3545440238?refId=MlRVYTHxaBo8MSlsMYfkrg%3D%3D&trackingId=vLdLuA1QtoaP7%2FNZ%2FQ7MeQ%3D%3D&position=21&pageNum=0&trk=public_jobs_jserp-result_search-card', 'https://br.linkedin.com/jobs/view/gerente-de-marketing-at-copacol-3514868458?refId=MlRVYTHxaBo8MSlsMYfkrg%3D%3D&trackingId=jGpDYhjIBsakLMdOC4H7hQ%3D%3D&position=22&pageNum=0&trk=public_jobs_jserp-result_search-card', 'https://br.linkedin.com/jobs/view/vendedor-de-publicidade-at-entrelinhas-conte%C3%BAdo-forma-3497423617?refId=MlRVYTHxaBo8MSlsMYfkrg%3D%3D&trackingId=AG5pCsIli85FVI1MA6gL7w%3D%3D&position=23&pageNum=0&trk=public_jobs_jserp-result_search-card', 'https://br.linkedin.com/jobs/view/assistente-de-marketing-social-media-at-grupo-fiscal-3531316613?refId=MlRVYTHxaBo8MSlsMYfkrg%3D%3D&trackingId=h4ahpxdGEQZTBfZ0a0xSNg%3D%3D&position=24&pageNum=0&trk=public_jobs_jserp-result_search-card', 'https://br.linkedin.com/jobs/view/social-media-j%C3%BAnior-presencial-at-rmaish-3521487912?refId=MlRVYTHxaBo8MSlsMYfkrg%3D%3D&trackingId=3R0CE2Zm5RM3IM5S1%2FQe5g%3D%3D&position=25&pageNum=0&trk=public_jobs_jserp-result_search-card']\n",
      "\n",
      "25\n"
     ]
    }
   ],
   "source": [
    "vagas_link = driver.find_elements(by=By.CLASS_NAME, value='base-card__full-link')\n",
    "vagas_link=[link.get_attribute('href') for link in vagas_link]\n",
    "\n",
    "print(vagas_link)\n",
    "print()\n",
    "print(len(vagas_link))"
   ]
  },
  {
   "cell_type": "markdown",
   "id": "51b94fb1",
   "metadata": {},
   "source": [
    "###### Pegando titulos das vagas"
   ]
  },
  {
   "cell_type": "code",
   "execution_count": 12,
   "id": "a2fbb1a6",
   "metadata": {},
   "outputs": [
    {
     "name": "stdout",
     "output_type": "stream",
     "text": [
      "['SUPERIOR EM PUBLICIDADE E PROPAGANDA ou MARKETING', 'Brand Designer', 'Assistente de Marketing e Publicidade', 'Assistente de Mídias Sociais/Digitais ( Social Media )', 'Assistente de Publicidade e Marketing', 'Social Media Júnior', 'Analista de Publicidade', 'Analista de Social Media Jr.', 'Vendedor de Publicidade', 'Social Media', 'Assistente de Social Media', 'Assistente de Comunicação e Marketing', 'Assistente de design e social media', 'Assistente de Comunicação e Marketing - Florianópolis/SC', 'Assistente de Marketing', 'Marketing - Júnior Profissional - Trabalho Remoto', 'Social Media', 'Social Media - Freelance', 'Assistente de Comunicação e Marketing', 'Social media - Time de Criação', 'ESPECIALISTA DE MARKETING', 'Gerente de Marketing', 'Vendedor de publicidade', 'Assistente de Marketing (Social Media)', 'Social Media Júnior- Presencial']\n",
      "\n",
      "25\n"
     ]
    }
   ],
   "source": [
    "vagas_title = driver.find_elements(by=By.CLASS_NAME, value='base-search-card__title')\n",
    "vagas_title=[titulo.text for titulo in vagas_title]\n",
    "'''total_vagas = driver.find_elements(by=By.CLASS_NAME, value='results-context-header__job-count')[0]\n",
    "total_vagas = total_vagas.text\n",
    "total_vagas = int(float(total_vagas))*1000'''\n",
    "'''v=[]\n",
    "for i in vagas_title:\n",
    "    #print(i.text)\n",
    "    v.append(i.text)'''\n",
    "print(vagas_title)\n",
    "print()\n",
    "print(len(vagas_title))"
   ]
  },
  {
   "cell_type": "markdown",
   "id": "ccf5261c",
   "metadata": {},
   "source": [
    "###### Pegando nome das empresas das vagas"
   ]
  },
  {
   "cell_type": "code",
   "execution_count": 13,
   "id": "e020f8ab",
   "metadata": {},
   "outputs": [
    {
     "name": "stdout",
     "output_type": "stream",
     "text": [
      "['Instituto Formar', 'Nelogica', 'Equipe Cine', 'Fundação São Paulo', 'Equipe Cine', 'M3 Social | MKT Digital', 'TrabalhaBrasil', 'UOL EdTech', 'IMMakers ADS', 'VISS Cabeleireiros Visagistas', 'Nestlé', 'Rede Verbita de Educação', 'It Stone Semi Joias', 'Transpocred – Cooperativa Ailos', 'Fourmi Publicidade', 'BairesDev', 'EstrelaBet', 'AKL Marketing Pet', 'Colégio Arnaldo', 'Like Design', 'Grupo 3corações', 'Copacol', 'Entrelinhas Conteúdo & Forma', 'Grupo Fiscal', 'RmaisH']\n",
      "\n",
      "25\n"
     ]
    }
   ],
   "source": [
    "vagas_empresa = driver.find_elements(by=By.CLASS_NAME, value='hidden-nested-link')\n",
    "vagas_empresa = [empresa.text for empresa in vagas_empresa]\n",
    "'''for i in vagas_empresa:\n",
    "    #print(i.text)\n",
    "    emp.append(i.text)'''\n",
    "print(vagas_empresa)\n",
    "print()\n",
    "print(len(vagas_empresa))"
   ]
  },
  {
   "cell_type": "markdown",
   "id": "e71edebe",
   "metadata": {},
   "source": [
    "###### Pegando link das empresas das vagas"
   ]
  },
  {
   "cell_type": "code",
   "execution_count": 14,
   "id": "c7c04ab4",
   "metadata": {},
   "outputs": [
    {
     "name": "stdout",
     "output_type": "stream",
     "text": [
      "['https://br.linkedin.com/company/instituto-formar-es?trk=public_jobs_jserp-result_job-search-card-subtitle', 'https://br.linkedin.com/company/nelogica?trk=public_jobs_jserp-result_job-search-card-subtitle', 'https://br.linkedin.com/company/equipe-cine?trk=public_jobs_jserp-result_job-search-card-subtitle', 'https://br.linkedin.com/company/funda%C3%A7%C3%A3o-s%C3%A3o-paulo?trk=public_jobs_jserp-result_job-search-card-subtitle', 'https://br.linkedin.com/company/equipe-cine?trk=public_jobs_jserp-result_job-search-card-subtitle', 'https://br.linkedin.com/company/agenciam3social?trk=public_jobs_jserp-result_job-search-card-subtitle', 'https://br.linkedin.com/company/trabalhabrasil?trk=public_jobs_jserp-result_job-search-card-subtitle', 'https://br.linkedin.com/company/ciatech-uoledtech?trk=public_jobs_jserp-result_job-search-card-subtitle', 'https://br.linkedin.com/company/immakersads?trk=public_jobs_jserp-result_job-search-card-subtitle', 'https://br.linkedin.com/company/viss-cabeleireiros-visagistas?trk=public_jobs_jserp-result_job-search-card-subtitle', 'https://ch.linkedin.com/company/nestle-s-a-?trk=public_jobs_jserp-result_job-search-card-subtitle', 'https://br.linkedin.com/company/redeverbita?trk=public_jobs_jserp-result_job-search-card-subtitle', 'https://www.linkedin.com/company/it-stone-semi-joias?trk=public_jobs_jserp-result_job-search-card-subtitle', 'https://br.linkedin.com/company/transpocred-ailos?trk=public_jobs_jserp-result_job-search-card-subtitle', 'https://br.linkedin.com/company/fourmi-publicidade?trk=public_jobs_jserp-result_job-search-card-subtitle', 'https://www.linkedin.com/company/bairesdev?trk=public_jobs_jserp-result_job-search-card-subtitle', 'https://www.linkedin.com/company/estrelabet?trk=public_jobs_jserp-result_job-search-card-subtitle', 'https://br.linkedin.com/company/akl-marketing-pet?trk=public_jobs_jserp-result_job-search-card-subtitle', 'https://br.linkedin.com/company/col%C3%A9gio-arnaldo?trk=public_jobs_jserp-result_job-search-card-subtitle', 'https://br.linkedin.com/company/likedesign?trk=public_jobs_jserp-result_job-search-card-subtitle', 'https://br.linkedin.com/company/3coracoes?trk=public_jobs_jserp-result_job-search-card-subtitle', 'https://br.linkedin.com/company/copacol?trk=public_jobs_jserp-result_job-search-card-subtitle', 'https://br.linkedin.com/company/entrelinhas-conteudo-forma?trk=public_jobs_jserp-result_job-search-card-subtitle', 'https://br.linkedin.com/company/grupo-fiscal?trk=public_jobs_jserp-result_job-search-card-subtitle', 'https://br.linkedin.com/company/rmaish?trk=public_jobs_jserp-result_job-search-card-subtitle']\n",
      "\n",
      "25\n"
     ]
    }
   ],
   "source": [
    "vagas_link_emp = driver.find_elements(by=By.CLASS_NAME, value='hidden-nested-link')\n",
    "vagas_link_emp = [link_emp.get_attribute('href') for link_emp in vagas_link_emp]\n",
    "'''for i in vagas_link_emp:\n",
    "    #print(i.text)\n",
    "    emp_link.append(i.get_attribute('href'))'''\n",
    "print(vagas_link_emp)\n",
    "print()\n",
    "print(len(vagas_link_emp))"
   ]
  },
  {
   "cell_type": "code",
   "execution_count": 27,
   "id": "49065e12",
   "metadata": {},
   "outputs": [],
   "source": [
    "def rasp(tipo, nivel):\n",
    "    vagas_nivel = driver.find_elements(by=By.XPATH, value='//*[@id=\"main-content\"]/section[1]/div/div/section[1]/div/ul/li[1]/span')\n",
    "    for i in vagas_nivel:\n",
    "        nivel.append(i.text)\n",
    "    \n",
    "    vagas_tipo = driver.find_elements(by=By.XPATH, value='//*[@id=\"main-content\"]/section[1]/div/div/section[1]/div/ul/li[2]/span')\n",
    "    for i in vagas_tipo:\n",
    "        tipo.append(i.text)"
   ]
  },
  {
   "cell_type": "code",
   "execution_count": 28,
   "id": "dae1a702",
   "metadata": {},
   "outputs": [
    {
     "name": "stdout",
     "output_type": "stream",
     "text": [
      "['Assistente', 'Assistente', 'Assistente', 'Assistente', 'Assistente', 'Não aplicável', 'Assistente', 'Pleno-sênior', 'Pleno-sênior', 'Não aplicável']\n",
      "10\n",
      "['Tempo integral', 'Tempo integral', 'Tempo integral', 'Tempo integral', 'Tempo integral', 'Tempo integral', 'Tempo integral', 'Tempo integral', 'Tempo integral', 'Tempo integral']\n",
      "10\n"
     ]
    }
   ],
   "source": [
    "vagas_tipo = []\n",
    "vagas_nivel = []\n",
    "\n",
    "for i in vagas_link:\n",
    "    driver.get(i)\n",
    "    rasp(vagas_nivel, vagas_tipo)\n",
    "\n",
    "print(vagas_tipo)\n",
    "print(len(vagas_tipo))\n",
    "print(vagas_nivel)\n",
    "print(len(vagas_nivel))"
   ]
  },
  {
   "cell_type": "code",
   "execution_count": 35,
   "id": "eec141f5",
   "metadata": {},
   "outputs": [
    {
     "data": {
      "text/plain": [
       "'for i in vagas_link_emp:\\n    driver.get(i)\\n    if \\n    seguidores = driver.find_elements(by=By.XPATH, value=\\'//*[@id=\"main-content\"]/section[1]/section/div/div[2]/div[1]/h3/text()[2]\\')\\n    print(seguidores)'"
      ]
     },
     "execution_count": 35,
     "metadata": {},
     "output_type": "execute_result"
    }
   ],
   "source": [
    "num_seguidores_emp = []\n",
    "\n",
    "'''for i in vagas_link_emp:\n",
    "    driver.get(i)\n",
    "    if \n",
    "    seguidores = driver.find_elements(by=By.XPATH, value='//*[@id=\"main-content\"]/section[1]/section/div/div[2]/div[1]/h3/text()[2]')\n",
    "    print(seguidores)'''"
   ]
  },
  {
   "cell_type": "code",
   "execution_count": null,
   "id": "41c6952e",
   "metadata": {},
   "outputs": [],
   "source": []
  }
 ],
 "metadata": {
  "kernelspec": {
   "display_name": "Python 3 (ipykernel)",
   "language": "python",
   "name": "python3"
  },
  "language_info": {
   "codemirror_mode": {
    "name": "ipython",
    "version": 3
   },
   "file_extension": ".py",
   "mimetype": "text/x-python",
   "name": "python",
   "nbconvert_exporter": "python",
   "pygments_lexer": "ipython3",
   "version": "3.9.13"
  }
 },
 "nbformat": 4,
 "nbformat_minor": 5
}

{
 "cells": [
  {
   "cell_type": "markdown",
   "id": "3cc79cfd",
   "metadata": {},
   "source": [
    "#### Aqui iniciei com o import do selenium\n",
    "###### Mas antes foi preciso fazer a instalação das bibliotecas:\n",
    "- pip install selenium\n",
    "- pip install scrapy\n",
    "- pip install ipython\n",
    "- pip install pandas"
   ]
  },
  {
   "cell_type": "code",
   "execution_count": 1,
   "id": "ff8913bb",
   "metadata": {},
   "outputs": [],
   "source": [
    "from selenium import webdriver\n",
    "from selenium.webdriver.chrome.options import Options\n",
    "from selenium.webdriver.chrome.service import Service\n",
    "from selenium.common.exceptions import NoSuchElementException\n",
    "from webdriver_manager.chrome import ChromeDriverManager\n",
    "from selenium.webdriver.common.by import By\n",
    "from selenium.webdriver.common.keys import Keys\n",
    "from selenium.webdriver.common.action_chains import ActionChains\n",
    "from time import sleep\n",
    "import re\n",
    "import datetime\n",
    "import pandas as pd"
   ]
  },
  {
   "cell_type": "markdown",
   "id": "772efd9b",
   "metadata": {},
   "source": [
    "##### Fiz a instalação do chromedriver e em seguida abro a página do Google"
   ]
  },
  {
   "cell_type": "code",
   "execution_count": 2,
   "id": "42421884",
   "metadata": {},
   "outputs": [],
   "source": [
    "\n",
    "# Configurar o driver do navegador (exemplo usando o Chrome)\n",
    "options = Options()\n",
    "options.add_argument(\"start-maximized\")\n",
    "driver = webdriver.Chrome(service=Service(ChromeDriverManager().install()), options=options)\n",
    "driver.get(\"https://www.google.com\")"
   ]
  },
  {
   "cell_type": "markdown",
   "id": "aef12837",
   "metadata": {},
   "source": [
    "##### Em seguida, insiro a palavra chave para busca, e abro o Linkedin"
   ]
  },
  {
   "cell_type": "code",
   "execution_count": 3,
   "id": "d9e8b5b7",
   "metadata": {},
   "outputs": [],
   "source": [
    "driver.find_element('name', 'q').send_keys('vagas marketing')\n",
    "driver.get(\"https://www.linkedin.com\")"
   ]
  },
  {
   "cell_type": "markdown",
   "id": "51684160",
   "metadata": {},
   "source": [
    "###### Ao abrir o Linkedin, não irei logar, portanto seleciono button para vagas"
   ]
  },
  {
   "cell_type": "code",
   "execution_count": 4,
   "id": "a7b53362",
   "metadata": {},
   "outputs": [],
   "source": [
    "sleep(3)\n",
    "driver.find_elements(by=By.XPATH, value='/html/body/nav/ul/li[4]/a')[0].click()"
   ]
  },
  {
   "cell_type": "markdown",
   "id": "a25d09a5",
   "metadata": {},
   "source": [
    "###### Em seguida, limpo a label de localidade e a label de palavras-chaves para vagas, e insiro a que quero buscar"
   ]
  },
  {
   "cell_type": "code",
   "execution_count": 5,
   "id": "72d5e15b",
   "metadata": {},
   "outputs": [],
   "source": [
    "driver.find_element('name','keywords').clear()\n",
    "driver.find_element('name','keywords').send_keys('Marketing E Publicidade')\n",
    "driver.find_element('name','location').clear()\n",
    "driver.find_element('name','location').send_keys('Brasil')"
   ]
  },
  {
   "cell_type": "markdown",
   "id": "d1467ef4",
   "metadata": {},
   "source": [
    "###### Seleciono o localidade 1 das opções que aparece ao preencher a label"
   ]
  },
  {
   "cell_type": "code",
   "execution_count": 6,
   "id": "062801e0",
   "metadata": {},
   "outputs": [],
   "source": [
    "sleep(3)\n",
    "driver.find_elements(by=By.XPATH, value='//*[@id=\"location-1\"]')[0].click()"
   ]
  },
  {
   "cell_type": "markdown",
   "id": "7e333027",
   "metadata": {},
   "source": [
    "###### Aqui irei abrir os filtros para tipos de vaga, e selecionar o filtro Tempo integral e Estágio, por último seleciono o botão concluído"
   ]
  },
  {
   "cell_type": "code",
   "execution_count": 11,
   "id": "6c62b9a1",
   "metadata": {},
   "outputs": [],
   "source": [
    "sleep(3)\n",
    "driver.find_elements(by=By.XPATH, value='//*[@id=\"jserp-filters\"]/ul/li[4]/div/div/button')[0].click()"
   ]
  },
  {
   "cell_type": "code",
   "execution_count": 12,
   "id": "9900cd4c",
   "metadata": {},
   "outputs": [],
   "source": [
    "sleep(3)\n",
    "driver.find_elements(by=By.XPATH, value='//*[@id=\"jserp-filters\"]/ul/li[4]/div/div/div/div/div/div[1]/label')[0].click()"
   ]
  },
  {
   "cell_type": "code",
   "execution_count": 13,
   "id": "4b8b243d",
   "metadata": {},
   "outputs": [],
   "source": [
    "sleep(3)\n",
    "driver.find_elements(by=By.XPATH, value='//*[@id=\"jserp-filters\"]/ul/li[4]/div/div/div/button')[0].click()"
   ]
  },
  {
   "cell_type": "code",
   "execution_count": 14,
   "id": "93da70bb",
   "metadata": {},
   "outputs": [],
   "source": [
    "sleep(3)\n",
    "# fecho evento de iniciar sessão\n",
    "try:\n",
    "    evento_sessao = driver.find_elements(by=By.XPATH, value='/html/body/div[3]/button')[0]\n",
    "    # Se o elemento estiver presente, clica nele para fechar o evento\n",
    "    evento_sessao.click()\n",
    "except:\n",
    "    # Se o elemento não estiver presente, não faz nada\n",
    "    pass"
   ]
  },
  {
   "cell_type": "markdown",
   "id": "8e8021fa",
   "metadata": {},
   "source": [
    "##### Realizando Scrolling na página até o limite"
   ]
  },
  {
   "cell_type": "code",
   "execution_count": 15,
   "id": "a11ea820",
   "metadata": {},
   "outputs": [
    {
     "data": {
      "text/plain": [
       "'# Realizar o scrolling até o fim da página\\ncontador = 0\\naltura_anterior = driver.execute_script(\"return window.pageYOffset;\")\\nwhile contador < 2:\\n    # Realizar o scrolling até o fim da página\\n    actions = ActionChains(driver)\\n    actions.send_keys(Keys.END).perform()\\n    sleep(2)  # Aguardar um tempo para carregar mais vagas\\n    \\n    # Verificar se não há mais vagas para carregar (chegou ao fim da página)\\n    try:\\n        even_ver_mais = driver.find_elements(by=By.XPATH, value=\\'//*[@id=\"main-content\"]/section[2]/button\\')[0]\\n        #even_ver_mais.click()\\n        driver.execute_script(\"arguments[0].click();\", even_ver_mais)\\n        # Verificar se a altura da página foi alterada\\n        altura_atual = driver.execute_script(\"return window.pageYOffset;\")\\n        if altura_atual == altura_anterior:\\n            # Incrementar o contador quando o botão não estiver mais disponível\\n            contador += 1\\n        else:\\n            # Zerar o contador quando a página for expandida\\n            contador = 0\\n        altura_anterior = altura_atual\\n    except NoSuchElementException:\\n         # Incrementar o contador quando o botão não estiver mais disponível\\n        contador += 1\\n        continue\\n'"
      ]
     },
     "execution_count": 15,
     "metadata": {},
     "output_type": "execute_result"
    }
   ],
   "source": [
    "'''# Realizar o scrolling até o fim da página\n",
    "contador = 0\n",
    "altura_anterior = driver.execute_script(\"return window.pageYOffset;\")\n",
    "while contador < 2:\n",
    "    # Realizar o scrolling até o fim da página\n",
    "    actions = ActionChains(driver)\n",
    "    actions.send_keys(Keys.END).perform()\n",
    "    sleep(2)  # Aguardar um tempo para carregar mais vagas\n",
    "    \n",
    "    # Verificar se não há mais vagas para carregar (chegou ao fim da página)\n",
    "    try:\n",
    "        even_ver_mais = driver.find_elements(by=By.XPATH, value='//*[@id=\"main-content\"]/section[2]/button')[0]\n",
    "        #even_ver_mais.click()\n",
    "        driver.execute_script(\"arguments[0].click();\", even_ver_mais)\n",
    "        # Verificar se a altura da página foi alterada\n",
    "        altura_atual = driver.execute_script(\"return window.pageYOffset;\")\n",
    "        if altura_atual == altura_anterior:\n",
    "            # Incrementar o contador quando o botão não estiver mais disponível\n",
    "            contador += 1\n",
    "        else:\n",
    "            # Zerar o contador quando a página for expandida\n",
    "            contador = 0\n",
    "        altura_anterior = altura_atual\n",
    "    except NoSuchElementException:\n",
    "         # Incrementar o contador quando o botão não estiver mais disponível\n",
    "        contador += 1\n",
    "        continue\n",
    "'''"
   ]
  },
  {
   "cell_type": "markdown",
   "id": "1d729c0a",
   "metadata": {},
   "source": [
    "###### Pegando link das vagas"
   ]
  },
  {
   "cell_type": "code",
   "execution_count": 16,
   "id": "3b694ee3",
   "metadata": {},
   "outputs": [],
   "source": [
    "vagas_links = driver.find_elements(By.XPATH, '/html/body/div[1]/div/main/section[2]/ul/li/div/a')\n",
    "vagas_links = [link.get_attribute('href') for link in vagas_links]"
   ]
  },
  {
   "cell_type": "markdown",
   "id": "51b94fb1",
   "metadata": {},
   "source": [
    "###### Pegando titulos das vagas"
   ]
  },
  {
   "cell_type": "code",
   "execution_count": 17,
   "id": "a2fbb1a6",
   "metadata": {},
   "outputs": [],
   "source": [
    "vagas_title = driver.find_elements(by=By.CLASS_NAME, value='base-search-card__title')\n",
    "vagas_title=[titulo.text for titulo in vagas_title]\n"
   ]
  },
  {
   "cell_type": "markdown",
   "id": "ccf5261c",
   "metadata": {},
   "source": [
    "###### Pegando nome das empresas das vagas"
   ]
  },
  {
   "cell_type": "code",
   "execution_count": 18,
   "id": "e020f8ab",
   "metadata": {},
   "outputs": [],
   "source": [
    "vagas_empresa = driver.find_elements(by=By.CLASS_NAME, value='hidden-nested-link')\n",
    "vagas_empresa = [empresa.text for empresa in vagas_empresa]\n"
   ]
  },
  {
   "cell_type": "markdown",
   "id": "e71edebe",
   "metadata": {},
   "source": [
    "###### Pegando link das empresas das vagas e os dados de tipo e nivel de experiência"
   ]
  },
  {
   "cell_type": "code",
   "execution_count": 19,
   "id": "8a8bc089",
   "metadata": {},
   "outputs": [
    {
     "name": "stdout",
     "output_type": "stream",
     "text": [
      "25\n",
      "25\n",
      "25\n"
     ]
    }
   ],
   "source": [
    "print(len(vagas_links))\n",
    "print(len(vagas_title))\n",
    "print(len(vagas_empresa))"
   ]
  },
  {
   "cell_type": "code",
   "execution_count": 20,
   "id": "49065e12",
   "metadata": {},
   "outputs": [],
   "source": [
    "def rasp(tipo, nivel, candidaturas, URL):\n",
    "    vagas_nivel = driver.find_elements(by=By.XPATH, value='//*[@id=\"main-content\"]/section[1]/div/div/section[1]/div/ul/li[1]/span')\n",
    "    for i in vagas_nivel:\n",
    "        nivel.append(i.text)\n",
    "    \n",
    "    vagas_tipo = driver.find_elements(by=By.XPATH, value='//*[@id=\"main-content\"]/section[1]/div/div/section[1]/div/ul/li[2]/span')\n",
    "    for i in vagas_tipo:\n",
    "        tipo.append(i.text)\n",
    "    \n",
    "    try:\n",
    "        vagas_candidaturas = driver.find_elements(by=By.XPATH, value='//*[@id=\"main-content\"]/section[1]/div/section[2]/div/div[1]/div/h4/div[2]/figure/figcaption')\n",
    "        if vagas_candidaturas[0].text == \"Seja um dos 25 primeiros a se candidatar\":\n",
    "            candidaturas.append(\"Menos de 25 candidaturas\")\n",
    "        else:\n",
    "            candidaturas.append(vagas_candidaturas[0].text)\n",
    "    except:\n",
    "        vagas_candidaturas = driver.find_elements(by=By.XPATH, value='//*[@id=\"main-content\"]/section[1]/div/section[2]/div/div[1]/div/h4/div[2]/span[2]')\n",
    "        candidaturas.append(vagas_candidaturas[0].text)\n",
    "        \n",
    "    vagas_URL = driver.find_elements(by=By.XPATH, value='//*[@id=\"main-content\"]/section[1]/div/section[2]/div/div[1]/div/div/button[1]')\n",
    "    for i in vagas_URL:\n",
    "        URL.append(i.get_attribute('href'))\n",
    "   "
   ]
  },
  {
   "cell_type": "code",
   "execution_count": 21,
   "id": "8789e823",
   "metadata": {},
   "outputs": [],
   "source": [
    "def rasp_info_emp(seguidores_emp, local_emp, qtd_funcionarios):\n",
    "    #tratar erro de quando não encontrar informações de texto sobre seguidores no linkedin\n",
    "    try:\n",
    "        elements = driver.find_elements(by=By.XPATH, value='//*[@id=\"main-content\"]/section[1]/section/div/div[2]/div[1]/h3')\n",
    "        if len(elements) > 0:\n",
    "            info_aux = re.split(padrao, elements[0].text, maxsplit = 1)\n",
    "            seguidores_emp.append(info_aux[1]+info_aux[2])\n",
    "        else:\n",
    "            seguidores_emp.append(\"Não informado\")\n",
    "\n",
    "    except NoSuchElementException:\n",
    "        seguidores_emp.append(\"Não informado\")\n",
    "\n",
    "\n",
    "    element_loc = driver.find_elements(by=By.XPATH, value='//*[@id=\"address-0\"]')\n",
    "    local_emp.append(element_loc[0].text)\n",
    "    \n",
    "\n",
    "    element_funcionario = driver.find_elements(by=By.XPATH, value='//*[@id=\"main-content\"]/section[1]/div/section[1]/div/dl/div[3]/dd')\n",
    "    qtd_funcionarios.append(element_funcionario[0].text)"
   ]
  },
  {
   "cell_type": "code",
   "execution_count": 23,
   "id": "dae1a702",
   "metadata": {},
   "outputs": [],
   "source": [
    "vagas_tipo = []\n",
    "vagas_nivel = []\n",
    "num_candidaturas = []\n",
    "URL_candidatura = []\n",
    "links_sites_emp = []\n",
    "horario_Scraping = []\n",
    "\n",
    "seguidores_empresa, local_empresa, qtd_func = [], [], []\n",
    "#para separar a string quando encontrar o primeiro digito\n",
    "padrao = r\"(\\d)\" #significa um digito\n",
    "\n",
    "j = 0\n",
    "for i in vagas_links:\n",
    "    agora = datetime.datetime.now()\n",
    "    formatado = agora.strftime(\"%d/%m/%Y %H:%M\")\n",
    "    #print(formatado)\n",
    "    horario_Scraping.append(formatado)\n",
    "    sleep(2)\n",
    "    driver.get(i)\n",
    "    \n",
    "    #verificar se o url aberto foi o certo\n",
    "    while driver.current_url != i:\n",
    "        driver.get(i)\n",
    "        #print(j,driver.current_url)\n",
    "    \n",
    "    rasp(vagas_nivel, vagas_tipo, num_candidaturas, URL_candidatura)\n",
    "    \n",
    "    site_empresa = driver.find_elements(by=By.XPATH, value='//*[@id=\"main-content\"]/section[1]/div/section[2]/div/div[1]/div/h4/div[1]/span[1]/a')\n",
    "    for k in site_empresa:\n",
    "        links_sites_emp.append(k.get_attribute('href'))\n",
    "    \n",
    "    #Abrir site da empresa\n",
    "    driver.get(links_sites_emp[j])\n",
    "\n",
    "    #verificar se o url aberto foi o certo\n",
    "    while driver.current_url != links_sites_emp[j]:\n",
    "        driver.get(links_sites_emp[j])\n",
    "\n",
    "    sleep(3)\n",
    "\n",
    "    # fecho evento de logar se estiver presente\n",
    "    try:\n",
    "        evento_entrar = driver.find_elements(by=By.XPATH, value='//*[@id=\"organization_guest_contextual-sign-in\"]/div/section/button')[0]\n",
    "        # Se o elemento estiver presente, clica nele para fechar o evento\n",
    "        evento_entrar.click()\n",
    "    except:\n",
    "        # Se o elemento não estiver presente, não faz nada\n",
    "        pass\n",
    "    \n",
    "    rasp_info_emp(seguidores_empresa, local_empresa, qtd_func)\n",
    "    \n",
    "    j = j + 1\n",
    "    "
   ]
  },
  {
   "cell_type": "code",
   "execution_count": 24,
   "id": "efaf2954",
   "metadata": {},
   "outputs": [
    {
     "name": "stdout",
     "output_type": "stream",
     "text": [
      "['https://br.linkedin.com/jobs/view/analista-de-comunica%C3%A7%C3%A3o-e-marketing-junior-at-sicoob-agrocredi-3557022573?refId=H14PBnuDDD%2BiA5EH9jJzTQ%3D%3D&trackingId=wd%2BUTOHvVpntGDcIrMUulA%3D%3D&position=1&pageNum=0&trk=public_jobs_jserp-result_search-card', 'https://br.linkedin.com/jobs/view/brand-designer-at-nelogica-3531121540?refId=H14PBnuDDD%2BiA5EH9jJzTQ%3D%3D&trackingId=pZfiWyBxEHAiuWNKLmxHWw%3D%3D&position=2&pageNum=0&trk=public_jobs_jserp-result_search-card', 'https://br.linkedin.com/jobs/view/superior-em-publicidade-e-propaganda-ou-marketing-at-instituto-formar-3555791539?refId=H14PBnuDDD%2BiA5EH9jJzTQ%3D%3D&trackingId=bJ8l258xB4Khe4%2Fw4OX9%2FA%3D%3D&position=3&pageNum=0&trk=public_jobs_jserp-result_search-card', 'https://br.linkedin.com/jobs/view/assistente-de-marketing-e-publicidade-at-equipe-cine-3521828190?refId=H14PBnuDDD%2BiA5EH9jJzTQ%3D%3D&trackingId=Clk9JHoTuH0ii8eCKO83Pg%3D%3D&position=4&pageNum=0&trk=public_jobs_jserp-result_search-card', 'https://br.linkedin.com/jobs/view/assistente-de-m%C3%ADdias-sociais-digitais-social-media-at-funda%C3%A7%C3%A3o-s%C3%A3o-paulo-3529648162?refId=H14PBnuDDD%2BiA5EH9jJzTQ%3D%3D&trackingId=TKOpFNa0p1gvQazlvsDRqQ%3D%3D&position=5&pageNum=0&trk=public_jobs_jserp-result_search-card', 'https://br.linkedin.com/jobs/view/assistente-de-publicidade-e-marketing-at-equipe-cine-3521822371?refId=H14PBnuDDD%2BiA5EH9jJzTQ%3D%3D&trackingId=5uEaPavePvR5l%2BINvSaJrg%3D%3D&position=6&pageNum=0&trk=public_jobs_jserp-result_search-card', 'https://br.linkedin.com/jobs/view/social-media-j%C3%BAnior-at-m3-social-mkt-digital-3508096057?refId=H14PBnuDDD%2BiA5EH9jJzTQ%3D%3D&trackingId=8DwADmYPlbjoH6FP6gO7ow%3D%3D&position=7&pageNum=0&trk=public_jobs_jserp-result_search-card', 'https://br.linkedin.com/jobs/view/analista-de-social-media-jr-at-uol-edtech-3540346147?refId=H14PBnuDDD%2BiA5EH9jJzTQ%3D%3D&trackingId=bwndRRC9qPUBGnODxj1j6A%3D%3D&position=8&pageNum=0&trk=public_jobs_jserp-result_search-card', 'https://br.linkedin.com/jobs/view/analista-de-publicidade-at-trabalhabrasil-3551070919?refId=H14PBnuDDD%2BiA5EH9jJzTQ%3D%3D&trackingId=q4yDfQ0CaN402ISX56yMfg%3D%3D&position=9&pageNum=0&trk=public_jobs_jserp-result_search-card', 'https://br.linkedin.com/jobs/view/social-media-at-viss-cabeleireiros-visagistas-3505202734?refId=H14PBnuDDD%2BiA5EH9jJzTQ%3D%3D&trackingId=MkBCevfnmX%2FwNwfAK77WCw%3D%3D&position=10&pageNum=0&trk=public_jobs_jserp-result_search-card', 'https://br.linkedin.com/jobs/view/social-media-at-suzanbela-3515096710?refId=H14PBnuDDD%2BiA5EH9jJzTQ%3D%3D&trackingId=5hVZlN4P56Z4TlN64KVD7A%3D%3D&position=11&pageNum=0&trk=public_jobs_jserp-result_search-card', 'https://br.linkedin.com/jobs/view/social-media-at-ag%C3%AAncia-rf-3557273365?refId=H14PBnuDDD%2BiA5EH9jJzTQ%3D%3D&trackingId=WWjEw5pkFoktECr2QMn4uw%3D%3D&position=12&pageNum=0&trk=public_jobs_jserp-result_search-card', 'https://br.linkedin.com/jobs/view/assistente-de-marketing-at-mxlog-3557254279?refId=H14PBnuDDD%2BiA5EH9jJzTQ%3D%3D&trackingId=sNYUe8BBQMzVF5Ib%2BhJsFw%3D%3D&position=13&pageNum=0&trk=public_jobs_jserp-result_search-card', 'https://br.linkedin.com/jobs/view/assistente-de-comunica%C3%A7%C3%A3o-e-marketing-at-rede-verbita-de-educa%C3%A7%C3%A3o-3543501935?refId=H14PBnuDDD%2BiA5EH9jJzTQ%3D%3D&trackingId=OQ8UkOUiIlolQWqQanJKsg%3D%3D&position=14&pageNum=0&trk=public_jobs_jserp-result_search-card', 'https://br.linkedin.com/jobs/view/assistente-de-design-e-social-media-at-it-stone-semi-joias-3529302229?refId=H14PBnuDDD%2BiA5EH9jJzTQ%3D%3D&trackingId=6T71qP5KJfxHnh11aK9fdA%3D%3D&position=15&pageNum=0&trk=public_jobs_jserp-result_search-card', 'https://br.linkedin.com/jobs/view/assistente-de-comunica%C3%A7%C3%A3o-e-marketing-florian%C3%B3polis-sc-at-transpocred-%E2%80%93-cooperativa-ailos-3515452370?refId=H14PBnuDDD%2BiA5EH9jJzTQ%3D%3D&trackingId=8uCc6IyENsi5mG4UjrzqBg%3D%3D&position=16&pageNum=0&trk=public_jobs_jserp-result_search-card', 'https://br.linkedin.com/jobs/view/est%C3%A1gio-em-publicidade-e-propaganda-marketing-home-office-vgaged34-at-alpha-est%C3%A1gio-3557456538?refId=H14PBnuDDD%2BiA5EH9jJzTQ%3D%3D&trackingId=jSjVhkQDsgv02el1xjgDrg%3D%3D&position=17&pageNum=0&trk=public_jobs_jserp-result_search-card', 'https://br.linkedin.com/jobs/view/assistente-de-marketing-at-fourmi-publicidade-3527540700?refId=H14PBnuDDD%2BiA5EH9jJzTQ%3D%3D&trackingId=mWMPNJCL4JS%2FUWJ6WsGBhA%3D%3D&position=18&pageNum=0&trk=public_jobs_jserp-result_search-card', 'https://br.linkedin.com/jobs/view/assistente-de-comunica%C3%A7%C3%A3o-e-marketing-at-col%C3%A9gio-arnaldo-3550936358?refId=H14PBnuDDD%2BiA5EH9jJzTQ%3D%3D&trackingId=h9v%2BP2PUIHM%2Fcq6DFgnbTQ%3D%3D&position=19&pageNum=0&trk=public_jobs_jserp-result_search-card', 'https://br.linkedin.com/jobs/view/social-media-est%C3%A1gio-at-salli-brasil-3556801351?refId=H14PBnuDDD%2BiA5EH9jJzTQ%3D%3D&trackingId=Y98dAo5fKo%2FP3a6wg5AVTw%3D%3D&position=20&pageNum=0&trk=public_jobs_jserp-result_search-card', 'https://br.linkedin.com/jobs/view/social-media-relacionamento-com-clientes-at-lemon-motel-3557405899?refId=H14PBnuDDD%2BiA5EH9jJzTQ%3D%3D&trackingId=MmfFuNEXyeOVB73ViwpKKQ%3D%3D&position=21&pageNum=0&trk=public_jobs_jserp-result_search-card', 'https://br.linkedin.com/jobs/view/marketing-j%C3%BAnior-profissional-trabalho-remoto-at-bairesdev-3543218105?refId=H14PBnuDDD%2BiA5EH9jJzTQ%3D%3D&trackingId=0lSpvV%2B2YW8nOSadA%2FPRNw%3D%3D&position=22&pageNum=0&trk=public_jobs_jserp-result_search-card', 'https://br.linkedin.com/jobs/view/social-media-freelance-at-akl-marketing-pet-3534118110?refId=H14PBnuDDD%2BiA5EH9jJzTQ%3D%3D&trackingId=8zLDNY67UhGnH7Vc6iQZmQ%3D%3D&position=23&pageNum=0&trk=public_jobs_jserp-result_search-card', 'https://br.linkedin.com/jobs/view/social-media-time-de-cria%C3%A7%C3%A3o-at-like-design-3515509685?refId=H14PBnuDDD%2BiA5EH9jJzTQ%3D%3D&trackingId=wPJ72MvK7f4k8CtWFpODVQ%3D%3D&position=24&pageNum=0&trk=public_jobs_jserp-result_search-card', 'https://br.linkedin.com/jobs/view/especialista-de-marketing-at-grupo-3cora%C3%A7%C3%B5es-3545440238?refId=H14PBnuDDD%2BiA5EH9jJzTQ%3D%3D&trackingId=KPpG7BAmOna622ntqDqdiQ%3D%3D&position=25&pageNum=0&trk=public_jobs_jserp-result_search-card']\n",
      "['Analista de Comunicação e Marketing Junior', 'Brand Designer', 'SUPERIOR EM PUBLICIDADE E PROPAGANDA ou MARKETING', 'Assistente de Marketing e Publicidade', 'Assistente de Mídias Sociais/Digitais ( Social Media )', 'Assistente de Publicidade e Marketing', 'Social Media Júnior', 'Analista de Social Media Jr.', 'Analista de Publicidade', 'Social Media', 'Social Media', 'Social Media', 'Assistente de Marketing', 'Assistente de Comunicação e Marketing', 'Assistente de design e social media', 'Assistente de Comunicação e Marketing - Florianópolis/SC', 'ESTÁGIO EM PUBLICIDADE E PROPAGANDA/ MARKETING (HOME OFFICE)- VGAGED34', 'Assistente de Marketing', 'Assistente de Comunicação e Marketing', 'Social Media - (Estágio)', 'SOCIAL MEDIA/RELACIONAMENTO COM CLIENTES', 'Marketing - Júnior Profissional - Trabalho Remoto', 'Social Media - Freelance', 'Social media - Time de Criação', 'ESPECIALISTA DE MARKETING']\n",
      "['Sicoob Agrocredi', 'Nelogica', 'Instituto Formar', 'Equipe Cine', 'Fundação São Paulo', 'Equipe Cine', 'M3 Social | MKT Digital', 'UOL EdTech', 'TrabalhaBrasil', 'VISS Cabeleireiros Visagistas', 'Suzanbela', 'Agência RF', 'MXLOG', 'Rede Verbita de Educação', 'It Stone Semi Joias', 'Transpocred – Cooperativa Ailos', 'Alpha Estágio', 'Fourmi Publicidade', 'Colégio Arnaldo', 'Salli Brasil', 'Lemon Motel', 'BairesDev', 'AKL Marketing Pet', 'Like Design', 'Grupo 3corações']\n",
      "['Não aplicável', 'Assistente', 'Assistente', 'Assistente', 'Não aplicável', 'Assistente', 'Assistente', 'Assistente', 'Pleno-sênior', 'Assistente', 'Assistente', 'Assistente', 'Assistente', 'Não aplicável', 'Assistente', 'Não aplicável', 'Estágio', 'Assistente', 'Assistente', 'Assistente', 'Não aplicável', 'Assistente', 'Pleno-sênior', 'Não aplicável', 'Não aplicável']\n",
      "['Tempo integral', 'Tempo integral', 'Tempo integral', 'Tempo integral', 'Tempo integral', 'Tempo integral', 'Tempo integral', 'Tempo integral', 'Tempo integral', 'Tempo integral', 'Tempo integral', 'Tempo integral', 'Tempo integral', 'Tempo integral', 'Tempo integral', 'Tempo integral', 'Tempo integral', 'Tempo integral', 'Tempo integral', 'Tempo integral', 'Tempo integral', 'Tempo integral', 'Tempo integral', 'Tempo integral', 'Tempo integral']\n",
      "['Menos de 25 candidaturas', 'Mais de 200 candidaturas', 'Menos de 25 candidaturas', '71 candidaturas', 'Mais de 200 candidaturas', '37 candidaturas', '86 candidaturas', 'Mais de 200 candidaturas', 'Menos de 25 candidaturas', '25 candidaturas', 'Menos de 25 candidaturas', 'Menos de 25 candidaturas', 'Menos de 25 candidaturas', '58 candidaturas', '28 candidaturas', 'Mais de 200 candidaturas', 'Menos de 25 candidaturas', '135 candidaturas', 'Menos de 25 candidaturas', '37 candidaturas', '103 candidaturas', '37 candidaturas', '26 candidaturas', 'Menos de 25 candidaturas', 'Mais de 200 candidaturas']\n",
      "[None, None, None, None, None, None, None, None, None, None, None, None, None, None, None, None, None, None, None, None, None, None, None, None, None]\n",
      "['https://br.linkedin.com/company/sicoob-agrocredi?trk=public_jobs_topcard-org-name', 'https://br.linkedin.com/company/nelogica?trk=public_jobs_topcard-org-name', 'https://br.linkedin.com/company/instituto-formar-es?trk=public_jobs_topcard-org-name', 'https://br.linkedin.com/company/equipe-cine?trk=public_jobs_topcard-org-name', 'https://br.linkedin.com/company/funda%C3%A7%C3%A3o-s%C3%A3o-paulo?trk=public_jobs_topcard-org-name', 'https://br.linkedin.com/company/equipe-cine?trk=public_jobs_topcard-org-name', 'https://br.linkedin.com/company/agenciam3social?trk=public_jobs_topcard-org-name', 'https://br.linkedin.com/company/ciatech-uoledtech?trk=public_jobs_topcard-org-name', 'https://br.linkedin.com/company/trabalhabrasil?trk=public_jobs_topcard-org-name', 'https://br.linkedin.com/company/viss-cabeleireiros-visagistas?trk=public_jobs_topcard-org-name', 'https://br.linkedin.com/company/suzanbela?trk=public_jobs_topcard-org-name', 'https://br.linkedin.com/company/r%C3%A1dio-conte%C3%BAdo?trk=public_jobs_topcard-org-name', 'https://br.linkedin.com/company/mx-log?trk=public_jobs_topcard-org-name', 'https://br.linkedin.com/company/redeverbita?trk=public_jobs_topcard-org-name', 'https://br.linkedin.com/company/it-stone-semi-joias?trk=public_jobs_topcard-org-name', 'https://br.linkedin.com/company/transpocred-ailos?trk=public_jobs_topcard-org-name', 'https://br.linkedin.com/company/alpha-est%C3%A1gio?trk=public_jobs_topcard-org-name', 'https://br.linkedin.com/company/fourmi-publicidade?trk=public_jobs_topcard-org-name', 'https://br.linkedin.com/company/col%C3%A9gio-arnaldo?trk=public_jobs_topcard-org-name', 'https://br.linkedin.com/company/sallibrasil?trk=public_jobs_topcard-org-name', 'https://br.linkedin.com/company/lemon-motel?trk=public_jobs_topcard-org-name', 'https://www.linkedin.com/company/bairesdev?trk=public_jobs_topcard-org-name', 'https://br.linkedin.com/company/akl-marketing-pet?trk=public_jobs_topcard-org-name', 'https://br.linkedin.com/company/likedesign?trk=public_jobs_topcard-org-name', 'https://br.linkedin.com/company/3coracoes?trk=public_jobs_topcard-org-name']\n",
      "['05/04/2023 13:18', '05/04/2023 13:18', '05/04/2023 13:18', '05/04/2023 13:18', '05/04/2023 13:19', '05/04/2023 13:19', '05/04/2023 13:19', '05/04/2023 13:19', '05/04/2023 13:20', '05/04/2023 13:20', '05/04/2023 13:20', '05/04/2023 13:20', '05/04/2023 13:20', '05/04/2023 13:21', '05/04/2023 13:21', '05/04/2023 13:21', '05/04/2023 13:21', '05/04/2023 13:21', '05/04/2023 13:21', '05/04/2023 13:21', '05/04/2023 13:22', '05/04/2023 13:22', '05/04/2023 13:22', '05/04/2023 13:23', '05/04/2023 13:23']\n",
      "['4.660 seguidores', '302.851 seguidores', '512 seguidores', 'Não informado', '2.932 seguidores', 'Não informado', '1.716 seguidores', '71.920 seguidores', 'Não informado', '2.239 seguidores', '70 seguidores', '622 seguidores', '961 seguidores', '4.870 seguidores', '57 seguidores', '21.537 seguidores', '5.168 seguidores', '1.311 seguidores', '5.286 seguidores', '1.539 seguidores', '189 seguidores', '506.427 seguidores', '240 seguidores', '124 seguidores', 'Não informado']\n",
      "['R Capitao Joaquim Norberto, 105\\nGuaxupe, Mg 37800-000, BR', 'Avenida Carlos Gomes 400\\nPorto Alegre, Rio Grande do Sul 90480-000, BR', 'R Pedro Zangrande 662\\nSerra, Espírito Santo 29163-393, BR', 'Rua Gaspar Soares 226\\nSão Paulo, BR', 'Rua João Ramalho\\n182\\nSão Paulo, SP 05008000, BR', 'Rua Gaspar Soares 226\\nSão Paulo, BR', 'São Paulo, São Paulo 03026001, BR', 'Rua James Joule 65\\n8 e 9 andar\\nSão Paulo, SP 04576-080, BR', 'Curitiba, BR', 'Avenida Rouxinol 115\\nSão Paulo, São Paulo 04516-000, BR', 'Av Armando Sales De Oliveira, 633\\nSuzano, São Paulo 08673-000, BR', 'Avenida General Ataliba Leonel, 533\\nSão Paulo, SP 02033-000, BR', 'Av. Humberto de Alencar Castelo Branco, 1260 - Galpão 02 - Jardim Santo Ignácio\\nSão Bernardo do Campo, São Paulo 09850-300, BR', 'Rua dos Timbiras 519\\nBelo Horizonte, Minas Gerais 30140-060, BR', 'Rua Do 311 Sala 407\\nRio de Janeiro, Rj 22220-001, BR', 'R. José Cândido da Silva, 225\\nFlorianópolis, Santa Catarina 88075-250, BR', 'Rua Pedro Pegoraro 1120\\nSala 3\\nRibeirão Preto, São Paulo 14096-440, BR', 'Av. Antonio Artioli, 570\\nCampinas, São Paulo 13013-082, BR', 'Praça João Pessoa, 200 Funcionários\\nBELO HORIZONTE , MG 30140-020, BR', 'Alameda dos Maracatins, 780\\nConj. 2302, Moema\\nSão Paulo, SP 04089-001, BR', 'Rua Firmino de Figueiredo, 350, Afogados\\nRecife, Pernambuco 50750-070, BR', '2 Embarcadero Center\\nSan Francisco, California 94111, US', 'São Paulo, SP, BR', 'Rua Urbano Santos, 155\\nsala 1402\\nImperatriz, MA 65900-410, BR', 'NA\\nFortaleza, BR']\n",
      "['201-500 funcionários', '501-1.000 funcionários', '11-50 funcionários', '51-200 funcionários', '1.001-5.000 funcionários', '51-200 funcionários', '2-10 funcionários', '501-1.000 funcionários', '51-200 funcionários', '51-200 funcionários', '11-50 funcionários', '11-50 funcionários', '201-500 funcionários', '501-1.000 funcionários', '2-10 funcionários', '51-200 funcionários', '2-10 funcionários', '11-50 funcionários', '201-500 funcionários', '11-50 funcionários', '51-200 funcionários', '1.001-5.000 funcionários', '11-50 funcionários', '11-50 funcionários', '5.001-10.000 funcionários']\n"
     ]
    }
   ],
   "source": [
    "print(vagas_links)\n",
    "print(vagas_title)\n",
    "print(vagas_empresa)\n",
    "print(vagas_tipo)\n",
    "print(vagas_nivel)\n",
    "\n",
    "print(num_candidaturas)\n",
    "print(URL_candidatura)\n",
    "\n",
    "print(links_sites_emp)\n",
    "print(horario_Scraping)\n",
    "\n",
    "print(seguidores_empresa)\n",
    "print(local_empresa)\n",
    "\n",
    "print(qtd_func)"
   ]
  },
  {
   "cell_type": "code",
   "execution_count": 25,
   "id": "68dcd42f",
   "metadata": {},
   "outputs": [],
   "source": [
    "col = [\"URL da vaga no linkedin\", \"Nome da vaga\", \n",
    "                 \"Nome da empresa contratante\",\"URL da empresa contratante\",\n",
    "                \"Tipo de contratação\", \"Nível de experiência\", \"Número de candidaturas para vaga\",\n",
    "                 \"Horário do scraping\", \"Número de funcionários da empresa\", \"Número de seguidores da empresa\",\n",
    "                \"Local sede da empresa\"]\n",
    "df = pd.DataFrame({\"URL da vaga no linkedin\":vagas_links, \"Nome da vaga\":vagas_title, \n",
    "                 \"Nome da empresa contratante\":vagas_empresa,\"URL da empresa contratante\":links_sites_emp,\n",
    "                \"Tipo de contratação\":vagas_tipo, \"Nível de experiência\":vagas_nivel, \"Número de candidaturas para vaga\":num_candidaturas,\n",
    "                   \"Horário do scraping\": horario_Scraping, \"Número de funcionários da empresa\":qtd_func,\n",
    "                   \"Número de seguidores da empresa\":seguidores_empresa,\"Local sede da empresa\":local_empresa})\n",
    "\n"
   ]
  },
  {
   "cell_type": "code",
   "execution_count": 26,
   "id": "4dfa3a41",
   "metadata": {},
   "outputs": [
    {
     "data": {
      "text/html": [
       "<div>\n",
       "<style scoped>\n",
       "    .dataframe tbody tr th:only-of-type {\n",
       "        vertical-align: middle;\n",
       "    }\n",
       "\n",
       "    .dataframe tbody tr th {\n",
       "        vertical-align: top;\n",
       "    }\n",
       "\n",
       "    .dataframe thead th {\n",
       "        text-align: right;\n",
       "    }\n",
       "</style>\n",
       "<table border=\"1\" class=\"dataframe\">\n",
       "  <thead>\n",
       "    <tr style=\"text-align: right;\">\n",
       "      <th></th>\n",
       "      <th>URL da vaga no linkedin</th>\n",
       "      <th>Nome da vaga</th>\n",
       "      <th>Nome da empresa contratante</th>\n",
       "      <th>URL da empresa contratante</th>\n",
       "      <th>Tipo de contratação</th>\n",
       "      <th>Nível de experiência</th>\n",
       "      <th>Número de candidaturas para vaga</th>\n",
       "      <th>Horário do scraping</th>\n",
       "      <th>Número de funcionários da empresa</th>\n",
       "      <th>Número de seguidores da empresa</th>\n",
       "      <th>Local sede da empresa</th>\n",
       "    </tr>\n",
       "  </thead>\n",
       "  <tbody>\n",
       "    <tr>\n",
       "      <th>0</th>\n",
       "      <td>https://br.linkedin.com/jobs/view/analista-de-...</td>\n",
       "      <td>Analista de Comunicação e Marketing Junior</td>\n",
       "      <td>Sicoob Agrocredi</td>\n",
       "      <td>https://br.linkedin.com/company/sicoob-agrocre...</td>\n",
       "      <td>Não aplicável</td>\n",
       "      <td>Tempo integral</td>\n",
       "      <td>Menos de 25 candidaturas</td>\n",
       "      <td>05/04/2023 13:18</td>\n",
       "      <td>201-500 funcionários</td>\n",
       "      <td>4.660 seguidores</td>\n",
       "      <td>R Capitao Joaquim Norberto, 105\\nGuaxupe, Mg 3...</td>\n",
       "    </tr>\n",
       "    <tr>\n",
       "      <th>1</th>\n",
       "      <td>https://br.linkedin.com/jobs/view/brand-design...</td>\n",
       "      <td>Brand Designer</td>\n",
       "      <td>Nelogica</td>\n",
       "      <td>https://br.linkedin.com/company/nelogica?trk=p...</td>\n",
       "      <td>Assistente</td>\n",
       "      <td>Tempo integral</td>\n",
       "      <td>Mais de 200 candidaturas</td>\n",
       "      <td>05/04/2023 13:18</td>\n",
       "      <td>501-1.000 funcionários</td>\n",
       "      <td>302.851 seguidores</td>\n",
       "      <td>Avenida Carlos Gomes 400\\nPorto Alegre, Rio Gr...</td>\n",
       "    </tr>\n",
       "    <tr>\n",
       "      <th>2</th>\n",
       "      <td>https://br.linkedin.com/jobs/view/superior-em-...</td>\n",
       "      <td>SUPERIOR EM PUBLICIDADE E PROPAGANDA ou MARKETING</td>\n",
       "      <td>Instituto Formar</td>\n",
       "      <td>https://br.linkedin.com/company/instituto-form...</td>\n",
       "      <td>Assistente</td>\n",
       "      <td>Tempo integral</td>\n",
       "      <td>Menos de 25 candidaturas</td>\n",
       "      <td>05/04/2023 13:18</td>\n",
       "      <td>11-50 funcionários</td>\n",
       "      <td>512 seguidores</td>\n",
       "      <td>R Pedro Zangrande 662\\nSerra, Espírito Santo 2...</td>\n",
       "    </tr>\n",
       "    <tr>\n",
       "      <th>3</th>\n",
       "      <td>https://br.linkedin.com/jobs/view/assistente-d...</td>\n",
       "      <td>Assistente de Marketing e Publicidade</td>\n",
       "      <td>Equipe Cine</td>\n",
       "      <td>https://br.linkedin.com/company/equipe-cine?tr...</td>\n",
       "      <td>Assistente</td>\n",
       "      <td>Tempo integral</td>\n",
       "      <td>71 candidaturas</td>\n",
       "      <td>05/04/2023 13:18</td>\n",
       "      <td>51-200 funcionários</td>\n",
       "      <td>Não informado</td>\n",
       "      <td>Rua Gaspar Soares 226\\nSão Paulo, BR</td>\n",
       "    </tr>\n",
       "    <tr>\n",
       "      <th>4</th>\n",
       "      <td>https://br.linkedin.com/jobs/view/assistente-d...</td>\n",
       "      <td>Assistente de Mídias Sociais/Digitais ( Social...</td>\n",
       "      <td>Fundação São Paulo</td>\n",
       "      <td>https://br.linkedin.com/company/funda%C3%A7%C3...</td>\n",
       "      <td>Não aplicável</td>\n",
       "      <td>Tempo integral</td>\n",
       "      <td>Mais de 200 candidaturas</td>\n",
       "      <td>05/04/2023 13:19</td>\n",
       "      <td>1.001-5.000 funcionários</td>\n",
       "      <td>2.932 seguidores</td>\n",
       "      <td>Rua João Ramalho\\n182\\nSão Paulo, SP 05008000, BR</td>\n",
       "    </tr>\n",
       "  </tbody>\n",
       "</table>\n",
       "</div>"
      ],
      "text/plain": [
       "                             URL da vaga no linkedin  \\\n",
       "0  https://br.linkedin.com/jobs/view/analista-de-...   \n",
       "1  https://br.linkedin.com/jobs/view/brand-design...   \n",
       "2  https://br.linkedin.com/jobs/view/superior-em-...   \n",
       "3  https://br.linkedin.com/jobs/view/assistente-d...   \n",
       "4  https://br.linkedin.com/jobs/view/assistente-d...   \n",
       "\n",
       "                                        Nome da vaga  \\\n",
       "0         Analista de Comunicação e Marketing Junior   \n",
       "1                                     Brand Designer   \n",
       "2  SUPERIOR EM PUBLICIDADE E PROPAGANDA ou MARKETING   \n",
       "3              Assistente de Marketing e Publicidade   \n",
       "4  Assistente de Mídias Sociais/Digitais ( Social...   \n",
       "\n",
       "  Nome da empresa contratante  \\\n",
       "0            Sicoob Agrocredi   \n",
       "1                    Nelogica   \n",
       "2            Instituto Formar   \n",
       "3                 Equipe Cine   \n",
       "4          Fundação São Paulo   \n",
       "\n",
       "                          URL da empresa contratante Tipo de contratação  \\\n",
       "0  https://br.linkedin.com/company/sicoob-agrocre...       Não aplicável   \n",
       "1  https://br.linkedin.com/company/nelogica?trk=p...          Assistente   \n",
       "2  https://br.linkedin.com/company/instituto-form...          Assistente   \n",
       "3  https://br.linkedin.com/company/equipe-cine?tr...          Assistente   \n",
       "4  https://br.linkedin.com/company/funda%C3%A7%C3...       Não aplicável   \n",
       "\n",
       "  Nível de experiência Número de candidaturas para vaga Horário do scraping  \\\n",
       "0       Tempo integral         Menos de 25 candidaturas    05/04/2023 13:18   \n",
       "1       Tempo integral         Mais de 200 candidaturas    05/04/2023 13:18   \n",
       "2       Tempo integral         Menos de 25 candidaturas    05/04/2023 13:18   \n",
       "3       Tempo integral                  71 candidaturas    05/04/2023 13:18   \n",
       "4       Tempo integral         Mais de 200 candidaturas    05/04/2023 13:19   \n",
       "\n",
       "  Número de funcionários da empresa Número de seguidores da empresa  \\\n",
       "0              201-500 funcionários                4.660 seguidores   \n",
       "1            501-1.000 funcionários              302.851 seguidores   \n",
       "2                11-50 funcionários                  512 seguidores   \n",
       "3               51-200 funcionários                   Não informado   \n",
       "4          1.001-5.000 funcionários                2.932 seguidores   \n",
       "\n",
       "                               Local sede da empresa  \n",
       "0  R Capitao Joaquim Norberto, 105\\nGuaxupe, Mg 3...  \n",
       "1  Avenida Carlos Gomes 400\\nPorto Alegre, Rio Gr...  \n",
       "2  R Pedro Zangrande 662\\nSerra, Espírito Santo 2...  \n",
       "3               Rua Gaspar Soares 226\\nSão Paulo, BR  \n",
       "4  Rua João Ramalho\\n182\\nSão Paulo, SP 05008000, BR  "
      ]
     },
     "execution_count": 26,
     "metadata": {},
     "output_type": "execute_result"
    }
   ],
   "source": [
    "df.head()"
   ]
  },
  {
   "cell_type": "code",
   "execution_count": 27,
   "id": "b2d7dc43",
   "metadata": {},
   "outputs": [],
   "source": [
    "df.to_csv(\"Scraping - Francisco Davi Gomes de Oliveira.csv\", mode='w')"
   ]
  },
  {
   "cell_type": "code",
   "execution_count": null,
   "id": "48438625",
   "metadata": {},
   "outputs": [],
   "source": []
  }
 ],
 "metadata": {
  "kernelspec": {
   "display_name": "Python 3 (ipykernel)",
   "language": "python",
   "name": "python3"
  },
  "language_info": {
   "codemirror_mode": {
    "name": "ipython",
    "version": 3
   },
   "file_extension": ".py",
   "mimetype": "text/x-python",
   "name": "python",
   "nbconvert_exporter": "python",
   "pygments_lexer": "ipython3",
   "version": "3.9.13"
  }
 },
 "nbformat": 4,
 "nbformat_minor": 5
}
